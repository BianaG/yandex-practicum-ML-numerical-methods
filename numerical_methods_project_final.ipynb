{
 "cells": [
  {
   "cell_type": "markdown",
   "metadata": {},
   "source": [
    "# Numerical Methods Project"
   ]
  },
  {
   "cell_type": "markdown",
   "metadata": {},
   "source": [
    "A compnay for car sales service is developing an app to attract new customers. In that app, you can quickly find out the market value of your car. You have access to historical data: technical specifications, trim versions, and prices. You need to build the model to determine the value. \n",
    "\n",
    "The company is interested in:\n",
    "\n",
    "- the quality of the prediction\n",
    "- the speed of the prediction\n",
    "- the time required for training"
   ]
  },
  {
   "cell_type": "markdown",
   "metadata": {},
   "source": [
    "## Libraries import"
   ]
  },
  {
   "cell_type": "code",
   "execution_count": 1,
   "metadata": {},
   "outputs": [],
   "source": [
    "import pandas as pd\n",
    "import numpy as np\n",
    "import math \n",
    "import sidetable as stb\n",
    "import re\n",
    "\n",
    "import matplotlib.pyplot as plt\n",
    "import seaborn as sns\n",
    "\n",
    "from sklearn.model_selection import train_test_split\n",
    "\n",
    "from sklearn.metrics import mean_squared_error\n",
    "\n",
    "from sklearn.linear_model import LinearRegression\n",
    "from sklearn.linear_model import Lasso\n",
    "from sklearn.tree import DecisionTreeRegressor\n",
    "from sklearn.ensemble import RandomForestRegressor\n",
    "from sklearn.model_selection import GridSearchCV\n",
    "from sklearn.metrics import make_scorer\n",
    "\n",
    "from sklearn.impute import KNNImputer\n",
    "from sklearn.preprocessing import MinMaxScaler\n",
    "from sklearn.preprocessing import OrdinalEncoder\n",
    "\n",
    "import lightgbm as lgb\n",
    "from catboost import CatBoostRegressor\n",
    "\n",
    "import warnings\n",
    "\n",
    "warnings.filterwarnings('ignore')"
   ]
  },
  {
   "cell_type": "markdown",
   "metadata": {},
   "source": [
    "## Data loading"
   ]
  },
  {
   "cell_type": "code",
   "execution_count": 2,
   "metadata": {},
   "outputs": [],
   "source": [
    "# Loading the data from local computer\n",
    "try:\n",
    "    df = pd.read_csv('car_data.csv')\n",
    "# Loading the data from practicum server    \n",
    "except:\n",
    "    df = pd.read_csv('/datasets/car_data.csv')"
   ]
  },
  {
   "cell_type": "markdown",
   "metadata": {},
   "source": [
    "## Data preparation"
   ]
  },
  {
   "cell_type": "code",
   "execution_count": 3,
   "metadata": {},
   "outputs": [
    {
     "data": {
      "text/html": [
       "<div>\n",
       "<style scoped>\n",
       "    .dataframe tbody tr th:only-of-type {\n",
       "        vertical-align: middle;\n",
       "    }\n",
       "\n",
       "    .dataframe tbody tr th {\n",
       "        vertical-align: top;\n",
       "    }\n",
       "\n",
       "    .dataframe thead th {\n",
       "        text-align: right;\n",
       "    }\n",
       "</style>\n",
       "<table border=\"1\" class=\"dataframe\">\n",
       "  <thead>\n",
       "    <tr style=\"text-align: right;\">\n",
       "      <th></th>\n",
       "      <th>DateCrawled</th>\n",
       "      <th>Price</th>\n",
       "      <th>VehicleType</th>\n",
       "      <th>RegistrationYear</th>\n",
       "      <th>Gearbox</th>\n",
       "      <th>Power</th>\n",
       "      <th>Model</th>\n",
       "      <th>Mileage</th>\n",
       "      <th>RegistrationMonth</th>\n",
       "      <th>FuelType</th>\n",
       "      <th>Brand</th>\n",
       "      <th>NotRepaired</th>\n",
       "      <th>DateCreated</th>\n",
       "      <th>NumberOfPictures</th>\n",
       "      <th>PostalCode</th>\n",
       "      <th>LastSeen</th>\n",
       "    </tr>\n",
       "  </thead>\n",
       "  <tbody>\n",
       "    <tr>\n",
       "      <th>0</th>\n",
       "      <td>24/03/2016 11:52</td>\n",
       "      <td>480</td>\n",
       "      <td>NaN</td>\n",
       "      <td>1993</td>\n",
       "      <td>manual</td>\n",
       "      <td>0</td>\n",
       "      <td>golf</td>\n",
       "      <td>150000</td>\n",
       "      <td>0</td>\n",
       "      <td>petrol</td>\n",
       "      <td>volkswagen</td>\n",
       "      <td>NaN</td>\n",
       "      <td>24/03/2016 00:00</td>\n",
       "      <td>0</td>\n",
       "      <td>70435</td>\n",
       "      <td>07/04/2016 03:16</td>\n",
       "    </tr>\n",
       "    <tr>\n",
       "      <th>1</th>\n",
       "      <td>24/03/2016 10:58</td>\n",
       "      <td>18300</td>\n",
       "      <td>coupe</td>\n",
       "      <td>2011</td>\n",
       "      <td>manual</td>\n",
       "      <td>190</td>\n",
       "      <td>NaN</td>\n",
       "      <td>125000</td>\n",
       "      <td>5</td>\n",
       "      <td>gasoline</td>\n",
       "      <td>audi</td>\n",
       "      <td>yes</td>\n",
       "      <td>24/03/2016 00:00</td>\n",
       "      <td>0</td>\n",
       "      <td>66954</td>\n",
       "      <td>07/04/2016 01:46</td>\n",
       "    </tr>\n",
       "    <tr>\n",
       "      <th>2</th>\n",
       "      <td>14/03/2016 12:52</td>\n",
       "      <td>9800</td>\n",
       "      <td>suv</td>\n",
       "      <td>2004</td>\n",
       "      <td>auto</td>\n",
       "      <td>163</td>\n",
       "      <td>grand</td>\n",
       "      <td>125000</td>\n",
       "      <td>8</td>\n",
       "      <td>gasoline</td>\n",
       "      <td>jeep</td>\n",
       "      <td>NaN</td>\n",
       "      <td>14/03/2016 00:00</td>\n",
       "      <td>0</td>\n",
       "      <td>90480</td>\n",
       "      <td>05/04/2016 12:47</td>\n",
       "    </tr>\n",
       "    <tr>\n",
       "      <th>3</th>\n",
       "      <td>17/03/2016 16:54</td>\n",
       "      <td>1500</td>\n",
       "      <td>small</td>\n",
       "      <td>2001</td>\n",
       "      <td>manual</td>\n",
       "      <td>75</td>\n",
       "      <td>golf</td>\n",
       "      <td>150000</td>\n",
       "      <td>6</td>\n",
       "      <td>petrol</td>\n",
       "      <td>volkswagen</td>\n",
       "      <td>no</td>\n",
       "      <td>17/03/2016 00:00</td>\n",
       "      <td>0</td>\n",
       "      <td>91074</td>\n",
       "      <td>17/03/2016 17:40</td>\n",
       "    </tr>\n",
       "    <tr>\n",
       "      <th>4</th>\n",
       "      <td>31/03/2016 17:25</td>\n",
       "      <td>3600</td>\n",
       "      <td>small</td>\n",
       "      <td>2008</td>\n",
       "      <td>manual</td>\n",
       "      <td>69</td>\n",
       "      <td>fabia</td>\n",
       "      <td>90000</td>\n",
       "      <td>7</td>\n",
       "      <td>gasoline</td>\n",
       "      <td>skoda</td>\n",
       "      <td>no</td>\n",
       "      <td>31/03/2016 00:00</td>\n",
       "      <td>0</td>\n",
       "      <td>60437</td>\n",
       "      <td>06/04/2016 10:17</td>\n",
       "    </tr>\n",
       "  </tbody>\n",
       "</table>\n",
       "</div>"
      ],
      "text/plain": [
       "        DateCrawled  Price VehicleType  RegistrationYear Gearbox  Power  \\\n",
       "0  24/03/2016 11:52    480         NaN              1993  manual      0   \n",
       "1  24/03/2016 10:58  18300       coupe              2011  manual    190   \n",
       "2  14/03/2016 12:52   9800         suv              2004    auto    163   \n",
       "3  17/03/2016 16:54   1500       small              2001  manual     75   \n",
       "4  31/03/2016 17:25   3600       small              2008  manual     69   \n",
       "\n",
       "   Model  Mileage  RegistrationMonth  FuelType       Brand NotRepaired  \\\n",
       "0   golf   150000                  0    petrol  volkswagen         NaN   \n",
       "1    NaN   125000                  5  gasoline        audi         yes   \n",
       "2  grand   125000                  8  gasoline        jeep         NaN   \n",
       "3   golf   150000                  6    petrol  volkswagen          no   \n",
       "4  fabia    90000                  7  gasoline       skoda          no   \n",
       "\n",
       "        DateCreated  NumberOfPictures  PostalCode          LastSeen  \n",
       "0  24/03/2016 00:00                 0       70435  07/04/2016 03:16  \n",
       "1  24/03/2016 00:00                 0       66954  07/04/2016 01:46  \n",
       "2  14/03/2016 00:00                 0       90480  05/04/2016 12:47  \n",
       "3  17/03/2016 00:00                 0       91074  17/03/2016 17:40  \n",
       "4  31/03/2016 00:00                 0       60437  06/04/2016 10:17  "
      ]
     },
     "execution_count": 3,
     "metadata": {},
     "output_type": "execute_result"
    }
   ],
   "source": [
    "# Examing the data\n",
    "df.head()"
   ]
  },
  {
   "cell_type": "code",
   "execution_count": 4,
   "metadata": {},
   "outputs": [],
   "source": [
    "# Creating dictionary with lowercase variables names\n",
    "keys = df.columns\n",
    "col_dic = {}\n",
    "i = 0\n",
    "\n",
    "for key in keys:\n",
    "    splitted_name = re.findall('[A-Z][^A-Z]*', keys[i])\n",
    "    lowercase_name = [x.lower() for x in splitted_name]\n",
    "    joined_name = '_'.join(lowercase_name)\n",
    "    col_dic[key] = joined_name\n",
    "    i+=1"
   ]
  },
  {
   "cell_type": "code",
   "execution_count": 5,
   "metadata": {},
   "outputs": [],
   "source": [
    "# Replacing the variables' names with lowercase names\n",
    "df = df.rename(columns = col_dic)"
   ]
  },
  {
   "cell_type": "code",
   "execution_count": 6,
   "metadata": {},
   "outputs": [
    {
     "data": {
      "text/plain": [
       "Index(['date_crawled', 'price', 'vehicle_type', 'registration_year', 'gearbox',\n",
       "       'power', 'model', 'mileage', 'registration_month', 'fuel_type', 'brand',\n",
       "       'not_repaired', 'date_created', 'number_of_pictures', 'postal_code',\n",
       "       'last_seen'],\n",
       "      dtype='object')"
      ]
     },
     "execution_count": 6,
     "metadata": {},
     "output_type": "execute_result"
    }
   ],
   "source": [
    "df.columns"
   ]
  },
  {
   "cell_type": "markdown",
   "metadata": {},
   "source": [
    "Replacing the variables' names was done successfully."
   ]
  },
  {
   "cell_type": "code",
   "execution_count": 7,
   "metadata": {},
   "outputs": [],
   "source": [
    "# Removing the 'postal_code' feature because it has no influence on the vehicles price\n",
    "df.drop('postal_code', axis = 1, inplace = True)"
   ]
  },
  {
   "cell_type": "code",
   "execution_count": 8,
   "metadata": {},
   "outputs": [
    {
     "name": "stdout",
     "output_type": "stream",
     "text": [
      "<class 'pandas.core.frame.DataFrame'>\n",
      "RangeIndex: 354369 entries, 0 to 354368\n",
      "Data columns (total 15 columns):\n",
      " #   Column              Non-Null Count   Dtype \n",
      "---  ------              --------------   ----- \n",
      " 0   date_crawled        354369 non-null  object\n",
      " 1   price               354369 non-null  int64 \n",
      " 2   vehicle_type        316879 non-null  object\n",
      " 3   registration_year   354369 non-null  int64 \n",
      " 4   gearbox             334536 non-null  object\n",
      " 5   power               354369 non-null  int64 \n",
      " 6   model               334664 non-null  object\n",
      " 7   mileage             354369 non-null  int64 \n",
      " 8   registration_month  354369 non-null  int64 \n",
      " 9   fuel_type           321474 non-null  object\n",
      " 10  brand               354369 non-null  object\n",
      " 11  not_repaired        283215 non-null  object\n",
      " 12  date_created        354369 non-null  object\n",
      " 13  number_of_pictures  354369 non-null  int64 \n",
      " 14  last_seen           354369 non-null  object\n",
      "dtypes: int64(6), object(9)\n",
      "memory usage: 40.6+ MB\n"
     ]
    }
   ],
   "source": [
    "# Checking the datatypes of the variables\n",
    "df.info()"
   ]
  },
  {
   "cell_type": "markdown",
   "metadata": {},
   "source": [
    "We see that the date features **date_crawled**, **date_created** and **last_seen** is an object type instead datatype.\n",
    "\n",
    "Also, the **date_crawled** variable is a feature that tells us when the date profile was downloaded from the database. This information is meaningless to predict the price of the vehicle, and it is basically just an informative variable like indices. Also, it has the same values as the **date_created** feature. The **last_seen** variable also has no influence on the vehicle's price - the usage patterns of the car owner of the app don't influence the car price. It doesn't matter if the user uses the app every day or once a week to check the price of his car. Therefore we will drop these 2 variables from the dataset."
   ]
  },
  {
   "cell_type": "code",
   "execution_count": 9,
   "metadata": {},
   "outputs": [],
   "source": [
    "# Removing the 'date_crawled' from the dataset\n",
    "df.drop(['date_crawled', 'last_seen'], axis = 1, inplace = True)"
   ]
  },
  {
   "cell_type": "code",
   "execution_count": 10,
   "metadata": {},
   "outputs": [],
   "source": [
    "# Changing the datatype of the date features\n",
    "df['date_created'] = pd.to_datetime(df.date_created)"
   ]
  },
  {
   "cell_type": "code",
   "execution_count": 11,
   "metadata": {},
   "outputs": [
    {
     "name": "stdout",
     "output_type": "stream",
     "text": [
      "<class 'pandas.core.frame.DataFrame'>\n",
      "RangeIndex: 354369 entries, 0 to 354368\n",
      "Data columns (total 13 columns):\n",
      " #   Column              Non-Null Count   Dtype         \n",
      "---  ------              --------------   -----         \n",
      " 0   price               354369 non-null  int64         \n",
      " 1   vehicle_type        316879 non-null  object        \n",
      " 2   registration_year   354369 non-null  int64         \n",
      " 3   gearbox             334536 non-null  object        \n",
      " 4   power               354369 non-null  int64         \n",
      " 5   model               334664 non-null  object        \n",
      " 6   mileage             354369 non-null  int64         \n",
      " 7   registration_month  354369 non-null  int64         \n",
      " 8   fuel_type           321474 non-null  object        \n",
      " 9   brand               354369 non-null  object        \n",
      " 10  not_repaired        283215 non-null  object        \n",
      " 11  date_created        354369 non-null  datetime64[ns]\n",
      " 12  number_of_pictures  354369 non-null  int64         \n",
      "dtypes: datetime64[ns](1), int64(6), object(6)\n",
      "memory usage: 35.1+ MB\n"
     ]
    }
   ],
   "source": [
    "df.info()"
   ]
  },
  {
   "cell_type": "markdown",
   "metadata": {},
   "source": [
    "The conversion was done successfully.\n",
    "\n",
    "Dates and times are rich sources of information for machine learning algorithms. But first, these features require some feature engineering to turn them into numerical data. When we converted our date variables to datetime features, we exposed all the pandas datetime properties. We can now break apart the date and get the year, month, week, day, hour, minute, second, etc. Let's apply these properties to our date features in the dataset."
   ]
  },
  {
   "cell_type": "code",
   "execution_count": 12,
   "metadata": {},
   "outputs": [],
   "source": [
    "# Braking down the datetime elements for the 'date_created' feature\n",
    "df['date_created_year'] = df.date_created.dt.year\n",
    "df['date_created_month'] = df.date_created.dt.month\n",
    "df['date_created_day'] = df.date_created.dt.day\n",
    "df['date_created_dayofweek'] = df.date_created.dt.dayofweek\n",
    "\n",
    "warnings.filterwarnings('ignore')"
   ]
  },
  {
   "cell_type": "code",
   "execution_count": 13,
   "metadata": {},
   "outputs": [
    {
     "data": {
      "text/html": [
       "<div>\n",
       "<style scoped>\n",
       "    .dataframe tbody tr th:only-of-type {\n",
       "        vertical-align: middle;\n",
       "    }\n",
       "\n",
       "    .dataframe tbody tr th {\n",
       "        vertical-align: top;\n",
       "    }\n",
       "\n",
       "    .dataframe thead th {\n",
       "        text-align: right;\n",
       "    }\n",
       "</style>\n",
       "<table border=\"1\" class=\"dataframe\">\n",
       "  <thead>\n",
       "    <tr style=\"text-align: right;\">\n",
       "      <th></th>\n",
       "      <th>date_created</th>\n",
       "      <th>date_created_year</th>\n",
       "      <th>date_created_month</th>\n",
       "      <th>date_created_day</th>\n",
       "      <th>date_created_dayofweek</th>\n",
       "    </tr>\n",
       "  </thead>\n",
       "  <tbody>\n",
       "    <tr>\n",
       "      <th>0</th>\n",
       "      <td>2016-03-24</td>\n",
       "      <td>2016</td>\n",
       "      <td>3</td>\n",
       "      <td>24</td>\n",
       "      <td>3</td>\n",
       "    </tr>\n",
       "    <tr>\n",
       "      <th>1</th>\n",
       "      <td>2016-03-24</td>\n",
       "      <td>2016</td>\n",
       "      <td>3</td>\n",
       "      <td>24</td>\n",
       "      <td>3</td>\n",
       "    </tr>\n",
       "    <tr>\n",
       "      <th>2</th>\n",
       "      <td>2016-03-14</td>\n",
       "      <td>2016</td>\n",
       "      <td>3</td>\n",
       "      <td>14</td>\n",
       "      <td>0</td>\n",
       "    </tr>\n",
       "    <tr>\n",
       "      <th>3</th>\n",
       "      <td>2016-03-17</td>\n",
       "      <td>2016</td>\n",
       "      <td>3</td>\n",
       "      <td>17</td>\n",
       "      <td>3</td>\n",
       "    </tr>\n",
       "    <tr>\n",
       "      <th>4</th>\n",
       "      <td>2016-03-31</td>\n",
       "      <td>2016</td>\n",
       "      <td>3</td>\n",
       "      <td>31</td>\n",
       "      <td>3</td>\n",
       "    </tr>\n",
       "  </tbody>\n",
       "</table>\n",
       "</div>"
      ],
      "text/plain": [
       "  date_created  date_created_year  date_created_month  date_created_day  \\\n",
       "0   2016-03-24               2016                   3                24   \n",
       "1   2016-03-24               2016                   3                24   \n",
       "2   2016-03-14               2016                   3                14   \n",
       "3   2016-03-17               2016                   3                17   \n",
       "4   2016-03-31               2016                   3                31   \n",
       "\n",
       "   date_created_dayofweek  \n",
       "0                       3  \n",
       "1                       3  \n",
       "2                       0  \n",
       "3                       3  \n",
       "4                       3  "
      ]
     },
     "execution_count": 13,
     "metadata": {},
     "output_type": "execute_result"
    }
   ],
   "source": [
    "# Checking the that the datetime elements were created correctly\n",
    "df[['date_created', 'date_created_year', 'date_created_month', 'date_created_day',\n",
    "     'date_created_dayofweek']].head()"
   ]
  },
  {
   "cell_type": "code",
   "execution_count": 14,
   "metadata": {},
   "outputs": [],
   "source": [
    "# Removing the 'date_created' feature from the dataset after turning it into numerical data\n",
    "df.drop('date_created', axis = 1, inplace = True)"
   ]
  },
  {
   "cell_type": "markdown",
   "metadata": {},
   "source": [
    "Let's explore our data a bit."
   ]
  },
  {
   "cell_type": "code",
   "execution_count": 15,
   "metadata": {},
   "outputs": [
    {
     "data": {
      "text/plain": [
       "date_created_year\n",
       "2014         1\n",
       "2015        25\n",
       "2016    354343\n",
       "dtype: int64"
      ]
     },
     "execution_count": 15,
     "metadata": {},
     "output_type": "execute_result"
    }
   ],
   "source": [
    "# Checking the years of profile creation\n",
    "df.groupby('date_created_year').size()"
   ]
  },
  {
   "cell_type": "code",
   "execution_count": 16,
   "metadata": {},
   "outputs": [
    {
     "data": {
      "text/plain": [
       "date_created_year\n",
       "2014    0.000003\n",
       "2015    0.000071\n",
       "2016    0.999927\n",
       "dtype: float64"
      ]
     },
     "execution_count": 16,
     "metadata": {},
     "output_type": "execute_result"
    }
   ],
   "source": [
    "# Checking the distribution of years of profile creation\n",
    "df.groupby('date_created_year').size() / len(df)"
   ]
  },
  {
   "cell_type": "code",
   "execution_count": 17,
   "metadata": {},
   "outputs": [
    {
     "data": {
      "text/plain": [
       "date_created_month\n",
       "1      12072\n",
       "2      12741\n",
       "3     223819\n",
       "4      13922\n",
       "5      12300\n",
       "6       6616\n",
       "7      12803\n",
       "8      11858\n",
       "9      12163\n",
       "10     11559\n",
       "11     11656\n",
       "12     12860\n",
       "dtype: int64"
      ]
     },
     "execution_count": 17,
     "metadata": {},
     "output_type": "execute_result"
    }
   ],
   "source": [
    "# Checking the months of profile creation\n",
    "df.groupby('date_created_month').size()"
   ]
  },
  {
   "cell_type": "code",
   "execution_count": 18,
   "metadata": {},
   "outputs": [
    {
     "data": {
      "text/plain": [
       "date_created_month\n",
       "1     0.034066\n",
       "2     0.035954\n",
       "3     0.631599\n",
       "4     0.039287\n",
       "5     0.034710\n",
       "6     0.018670\n",
       "7     0.036129\n",
       "8     0.033462\n",
       "9     0.034323\n",
       "10    0.032619\n",
       "11    0.032892\n",
       "12    0.036290\n",
       "dtype: float64"
      ]
     },
     "execution_count": 18,
     "metadata": {},
     "output_type": "execute_result"
    }
   ],
   "source": [
    "# Checking the distribution of months of profile creation\n",
    "df.groupby('date_created_month').size() / len(df)"
   ]
  },
  {
   "cell_type": "code",
   "execution_count": 19,
   "metadata": {},
   "outputs": [
    {
     "data": {
      "text/plain": [
       "date_created_day\n",
       "1        14\n",
       "2        73\n",
       "3     87060\n",
       "4     57119\n",
       "8         2\n",
       "9         3\n",
       "11        4\n",
       "12        4\n",
       "13     6025\n",
       "14    12492\n",
       "15    11811\n",
       "16    10813\n",
       "17    11132\n",
       "18     5013\n",
       "19    12222\n",
       "20    12933\n",
       "21    12714\n",
       "22    11464\n",
       "23    11329\n",
       "24    10617\n",
       "25    11716\n",
       "26    11410\n",
       "27    10605\n",
       "28    12530\n",
       "29    12139\n",
       "30    11829\n",
       "31    11296\n",
       "dtype: int64"
      ]
     },
     "execution_count": 19,
     "metadata": {},
     "output_type": "execute_result"
    }
   ],
   "source": [
    "# Checking the days in the month of profile creation\n",
    "df.groupby('date_created_day').size()"
   ]
  },
  {
   "cell_type": "code",
   "execution_count": 20,
   "metadata": {},
   "outputs": [
    {
     "data": {
      "text/plain": [
       "date_created_day\n",
       "1     0.000040\n",
       "2     0.000206\n",
       "3     0.245676\n",
       "4     0.161185\n",
       "8     0.000006\n",
       "9     0.000008\n",
       "11    0.000011\n",
       "12    0.000011\n",
       "13    0.017002\n",
       "14    0.035251\n",
       "15    0.033330\n",
       "16    0.030513\n",
       "17    0.031414\n",
       "18    0.014146\n",
       "19    0.034489\n",
       "20    0.036496\n",
       "21    0.035878\n",
       "22    0.032350\n",
       "23    0.031970\n",
       "24    0.029960\n",
       "25    0.033062\n",
       "26    0.032198\n",
       "27    0.029926\n",
       "28    0.035359\n",
       "29    0.034255\n",
       "30    0.033380\n",
       "31    0.031876\n",
       "dtype: float64"
      ]
     },
     "execution_count": 20,
     "metadata": {},
     "output_type": "execute_result"
    }
   ],
   "source": [
    "# Checking the distribution of days in the month of profile creation\n",
    "df.groupby('date_created_day').size() / len(df)"
   ]
  },
  {
   "cell_type": "code",
   "execution_count": 21,
   "metadata": {},
   "outputs": [
    {
     "data": {
      "text/plain": [
       "date_created_dayofweek\n",
       "0    75101\n",
       "1    43579\n",
       "2    49984\n",
       "3    57459\n",
       "4    35987\n",
       "5    49746\n",
       "6    42513\n",
       "dtype: int64"
      ]
     },
     "execution_count": 21,
     "metadata": {},
     "output_type": "execute_result"
    }
   ],
   "source": [
    "# Checking the days of profile creation\n",
    "df.groupby('date_created_dayofweek').size()"
   ]
  },
  {
   "cell_type": "code",
   "execution_count": 22,
   "metadata": {},
   "outputs": [
    {
     "data": {
      "text/plain": [
       "date_created_dayofweek\n",
       "0    0.211929\n",
       "1    0.122976\n",
       "2    0.141051\n",
       "3    0.162145\n",
       "4    0.101552\n",
       "5    0.140379\n",
       "6    0.119968\n",
       "dtype: float64"
      ]
     },
     "execution_count": 22,
     "metadata": {},
     "output_type": "execute_result"
    }
   ],
   "source": [
    "# Checking the distribution of days of profile creation\n",
    "df.groupby('date_created_dayofweek').size() / len(df)"
   ]
  },
  {
   "cell_type": "markdown",
   "metadata": {},
   "source": [
    "Let's create a new feature **'age_car'** - that will display the age of the car.\n"
   ]
  },
  {
   "cell_type": "code",
   "execution_count": 23,
   "metadata": {},
   "outputs": [
    {
     "data": {
      "text/html": [
       "<div>\n",
       "<style scoped>\n",
       "    .dataframe tbody tr th:only-of-type {\n",
       "        vertical-align: middle;\n",
       "    }\n",
       "\n",
       "    .dataframe tbody tr th {\n",
       "        vertical-align: top;\n",
       "    }\n",
       "\n",
       "    .dataframe thead th {\n",
       "        text-align: right;\n",
       "    }\n",
       "</style>\n",
       "<table border=\"1\" class=\"dataframe\">\n",
       "  <thead>\n",
       "    <tr style=\"text-align: right;\">\n",
       "      <th></th>\n",
       "      <th>price</th>\n",
       "      <th>vehicle_type</th>\n",
       "      <th>registration_year</th>\n",
       "      <th>gearbox</th>\n",
       "      <th>power</th>\n",
       "      <th>model</th>\n",
       "      <th>mileage</th>\n",
       "      <th>registration_month</th>\n",
       "      <th>fuel_type</th>\n",
       "      <th>brand</th>\n",
       "      <th>not_repaired</th>\n",
       "      <th>number_of_pictures</th>\n",
       "      <th>date_created_year</th>\n",
       "      <th>date_created_month</th>\n",
       "      <th>date_created_day</th>\n",
       "      <th>date_created_dayofweek</th>\n",
       "      <th>age_car</th>\n",
       "    </tr>\n",
       "  </thead>\n",
       "  <tbody>\n",
       "    <tr>\n",
       "      <th>0</th>\n",
       "      <td>480</td>\n",
       "      <td>NaN</td>\n",
       "      <td>1993</td>\n",
       "      <td>manual</td>\n",
       "      <td>0</td>\n",
       "      <td>golf</td>\n",
       "      <td>150000</td>\n",
       "      <td>0</td>\n",
       "      <td>petrol</td>\n",
       "      <td>volkswagen</td>\n",
       "      <td>NaN</td>\n",
       "      <td>0</td>\n",
       "      <td>2016</td>\n",
       "      <td>3</td>\n",
       "      <td>24</td>\n",
       "      <td>3</td>\n",
       "      <td>23</td>\n",
       "    </tr>\n",
       "    <tr>\n",
       "      <th>1</th>\n",
       "      <td>18300</td>\n",
       "      <td>coupe</td>\n",
       "      <td>2011</td>\n",
       "      <td>manual</td>\n",
       "      <td>190</td>\n",
       "      <td>NaN</td>\n",
       "      <td>125000</td>\n",
       "      <td>5</td>\n",
       "      <td>gasoline</td>\n",
       "      <td>audi</td>\n",
       "      <td>yes</td>\n",
       "      <td>0</td>\n",
       "      <td>2016</td>\n",
       "      <td>3</td>\n",
       "      <td>24</td>\n",
       "      <td>3</td>\n",
       "      <td>5</td>\n",
       "    </tr>\n",
       "  </tbody>\n",
       "</table>\n",
       "</div>"
      ],
      "text/plain": [
       "   price vehicle_type  registration_year gearbox  power model  mileage  \\\n",
       "0    480          NaN               1993  manual      0  golf   150000   \n",
       "1  18300        coupe               2011  manual    190   NaN   125000   \n",
       "\n",
       "   registration_month fuel_type       brand not_repaired  number_of_pictures  \\\n",
       "0                   0    petrol  volkswagen          NaN                   0   \n",
       "1                   5  gasoline        audi          yes                   0   \n",
       "\n",
       "   date_created_year  date_created_month  date_created_day  \\\n",
       "0               2016                   3                24   \n",
       "1               2016                   3                24   \n",
       "\n",
       "   date_created_dayofweek  age_car  \n",
       "0                       3       23  \n",
       "1                       3        5  "
      ]
     },
     "execution_count": 23,
     "metadata": {},
     "output_type": "execute_result"
    }
   ],
   "source": [
    "df['age_car'] = df['date_created_year'] - df['registration_year']\n",
    "df.head(2)"
   ]
  },
  {
   "cell_type": "markdown",
   "metadata": {},
   "source": [
    "We created another feature 'age_car' to display the car's age. It is known that the age of a car, is one of the most important elements that influence the car price. To create it, we substracted the 'registration_year' feature from the 'date_created_year' that we created. After doing so, there is no more need for the 'date_created_year' and 'registration_year' features, **therefore we will delete these features.** \n",
    "\n",
    "It seems that **most of the profiles - 63%, were created in March**. Interesting - what happened in March 2016, that caused so many people to get curious what is the value of their car. If it was a real-life project with some more information about the source of the data then we would know the reason for this spike in this time period.\n",
    "\n",
    "An interesting fact that we see in the data is that for some reason **most of the profiles were created on the 3rd and the 4th of the month**. Maybe people got creative after receiving their salaries - someone wanted to sell his car due to cash shortage while someone wanted to sell to add some amount and buy a new car. \n",
    "\n",
    "Also, we see that users tend to create profiles about twice as much on **Sundays** than on other days of the week.\n",
    "\n",
    "**In summary, most of the profiles were made on Sundays of March in the year 2016.**"
   ]
  },
  {
   "cell_type": "code",
   "execution_count": 24,
   "metadata": {},
   "outputs": [],
   "source": [
    "# Removing all the date related features\n",
    "df.drop(['date_created_year', 'date_created_month', \n",
    "         'date_created_day', 'date_created_dayofweek', \n",
    "         'registration_month','registration_year'], axis = 1, inplace = True)"
   ]
  },
  {
   "cell_type": "markdown",
   "metadata": {},
   "source": [
    "**Duplicates**"
   ]
  },
  {
   "cell_type": "code",
   "execution_count": 25,
   "metadata": {},
   "outputs": [
    {
     "name": "stdout",
     "output_type": "stream",
     "text": [
      "Number of duplicated rows: 45037\n",
      "Percentage of duplicaties: 12.71%\n"
     ]
    }
   ],
   "source": [
    "# Checking for duplicates\n",
    "duplicated = df.duplicated().sum()\n",
    "print('Number of duplicated rows:', duplicated)\n",
    "print('Percentage of duplicaties: {:.2%}'.format(duplicated/len(df)))"
   ]
  },
  {
   "cell_type": "code",
   "execution_count": 26,
   "metadata": {},
   "outputs": [
    {
     "data": {
      "text/plain": [
       "0"
      ]
     },
     "execution_count": 26,
     "metadata": {},
     "output_type": "execute_result"
    }
   ],
   "source": [
    "# Droping duplicates\n",
    "df.drop_duplicates(inplace = True)\n",
    "\n",
    "# Verifying the removal of the duplicates was done correctly\n",
    "df.duplicated().sum()"
   ]
  },
  {
   "cell_type": "markdown",
   "metadata": {},
   "source": [
    "**Numeric features distribution**"
   ]
  },
  {
   "cell_type": "code",
   "execution_count": 27,
   "metadata": {},
   "outputs": [
    {
     "data": {
      "image/png": "[encoded data removed]",
      "text/plain": [
       "<Figure size 1440x1440 with 5 Axes>"
      ]
     },
     "metadata": {
      "needs_background": "light"
     },
     "output_type": "display_data"
    }
   ],
   "source": [
    "# Checking the distribution of the numerical variables\n",
    "\n",
    "# Creating lists of numerical and non-numerical variables \n",
    "cat_col = ['vehicle_type', 'gearbox', 'model', 'fuel_type', 'brand','not_repaired']\n",
    "num_col = [x for x in df.columns if x not in cat_col]\n",
    "\n",
    "# Plotting a histogram for each numerical feature with its median\n",
    "fig = plt.figure(figsize =(20, 20))\n",
    "fig.subplots_adjust(hspace=0.4, wspace=0.4)\n",
    "fig.suptitle('Numeric Features Distribution Comparison', fontsize=15, y=1)\n",
    "for i in range(1,len(num_col)+1):\n",
    "    ax = fig.add_subplot(4, 3, i)\n",
    "    sns.kdeplot(df[num_col[i-1]], fill=True)\n",
    "    plt.ylabel('Density', fontsize=10)\n",
    "    \n",
    "    plt.axvline(x=df[num_col[i-1]].median(),\n",
    "            color='blue',\n",
    "            ls='--', \n",
    "            lw=1.5, \n",
    "            label = 'Median')"
   ]
  },
  {
   "cell_type": "markdown",
   "metadata": {},
   "source": [
    "We see that many features have outliers, including the target variable - 'price'. We will take care of it in the next step. Also, we see that the 'number_of_pictures' features have only one value - 0. This means that this feature has no meaning to the price, because it has the same values for all observations, as with the 'date_created_year' feature. Therefore we will delete the 'number_of_pictures' feature."
   ]
  },
  {
   "cell_type": "code",
   "execution_count": 28,
   "metadata": {},
   "outputs": [],
   "source": [
    "df.drop('number_of_pictures', axis = 1, inplace = True)"
   ]
  },
  {
   "cell_type": "markdown",
   "metadata": {},
   "source": [
    "**Outliers**"
   ]
  },
  {
   "cell_type": "code",
   "execution_count": 29,
   "metadata": {},
   "outputs": [],
   "source": [
    "# Updating the list of for numrical and categorical features for boxplot plot\n",
    "cat_col = ['vehicle_type', 'gearbox', 'model', 'fuel_type', 'brand','not_repaired']\n",
    "num_col = [x for x in df.columns if x not in cat_col]"
   ]
  },
  {
   "cell_type": "code",
   "execution_count": 30,
   "metadata": {},
   "outputs": [
    {
     "data": {
      "image/png": "[encoded data removed]",
      "text/plain": [
       "<Figure size 1440x1440 with 4 Axes>"
      ]
     },
     "metadata": {
      "needs_background": "light"
     },
     "output_type": "display_data"
    }
   ],
   "source": [
    "# Checking the outliers of the numerical variables\n",
    "fig = plt.figure(figsize =(20, 20))\n",
    "fig.subplots_adjust(hspace=0.4, wspace=0.4)\n",
    "fig.suptitle('Features Outliers', fontsize=15, y=1)\n",
    "for i in range(1,len(num_col)+1):\n",
    "    ax = fig.add_subplot(2, 2, i)\n",
    "    df.boxplot(num_col[i-1])\n",
    "    Q1 = df[num_col[i-1]].quantile(0.25)\n",
    "    Q3 = df[num_col[i-1]].quantile(0.75)\n",
    "    plt.hlines(y=[Q1,Q3], xmin = 0.9, xmax = 1.1, color = 'red')"
   ]
  },
  {
   "cell_type": "markdown",
   "metadata": {},
   "source": [
    "We clearly see here that the following variables have significant outliers:\n",
    "1. **price** - but we will not touch it because it's our target variable, and we need the model to b able to deal with expensive cars also.\n",
    "2. **power**\n",
    "3. **mileage** - because it is a very important feature that has significant influence on the price, we will not remove all the outliers, but onlly the values that are lower than 15,000 (a car's average mileage for a year)\n",
    "4. **age_car**"
   ]
  },
  {
   "cell_type": "code",
   "execution_count": 31,
   "metadata": {},
   "outputs": [],
   "source": [
    "# Removing the outliers for the 'mileage' feature\n",
    "df = df[df.mileage >= 15000]"
   ]
  },
  {
   "cell_type": "code",
   "execution_count": 32,
   "metadata": {},
   "outputs": [],
   "source": [
    "# Building a function for outlier removal\n",
    "def outlier_removal(data, original_data):\n",
    "    col = data.columns\n",
    "    for i in range(len(col)):\n",
    "        \n",
    "        # Finding the range of quantiles Q1 and Q3\n",
    "        q1 = data[col[i]].quantile(0.25)\n",
    "        q3 = data[col[i]].quantile(0.75)\n",
    "        iqr = q3 - q1\n",
    "        box_max_0 = math.floor(q3 + 1.5*iqr)\n",
    "        box_min_0 = math.ceil(q1 - 1.5*iqr)\n",
    "        \n",
    "        # Removing the values that exceed the quantiles range\n",
    "        data.drop(data[(data[col[i]] > box_max_0) | (data[col[i]] < box_min_0)].index, inplace = True)\n",
    "        \n",
    "        # Removing outliers from the original dataset\n",
    "        original_data.drop(original_data[(original_data[col[i]] > box_max_0) | \n",
    "                                         (original_data[col[i]] < box_min_0)].index, inplace = True)\n",
    "        \n",
    "        # Checking if there is 'new' outliers and removing them\n",
    "        q1 = data[col[i]].quantile(0.25)\n",
    "        q3 = data[col[i]].quantile(0.75)\n",
    "        iqr = q3 - q1\n",
    "        box_max_new = math.floor(q3 + 1.5*iqr)\n",
    "        box_min_new = math.ceil(q1 - 1.5*iqr)\n",
    "        \n",
    "        while box_max_new < box_max_0:\n",
    "            data.drop(data[(data[col[i]] > box_max_new) | (data[col[i]] < box_min_new)].index, inplace = True)\n",
    "            original_data.drop(original_data[(original_data[col[i]] > box_max_new) | \n",
    "                                         (original_data[col[i]] < box_min_new)].index, inplace = True)\n",
    "            box_max_0 = box_max_new\n",
    "            \n",
    "            q1 = data[col[i]].quantile(0.25)\n",
    "            q3 = data[col[i]].quantile(0.75)\n",
    "            iqr = q3 - q1\n",
    "            box_max_new = math.floor(q3 + 1.5*iqr)\n",
    "            box_min_new = math.ceil(q1 - 1.5*iqr)\n",
    "            \n",
    "            \n",
    "            \n",
    "                \n",
    "    # Plotting the boxplot again to check the outlier removal\n",
    "    fig = plt.figure(figsize =(15, 15))\n",
    "    fig.subplots_adjust(hspace=0.4, wspace=0.4)\n",
    "    for j in range(1,len(col)+1):\n",
    "        ax = fig.add_subplot(3, 2, j)\n",
    "        data.boxplot(col[j-1])\n",
    "        Q1 = data[col[j-1]].quantile(0.25)\n",
    "        Q3 = data[col[j-1]].quantile(0.75)\n",
    "        plt.hlines(y=[Q1,Q3], xmin = 0.9, xmax = 1.1, color = 'red')\n",
    "        "
   ]
  },
  {
   "cell_type": "code",
   "execution_count": 33,
   "metadata": {},
   "outputs": [
    {
     "data": {
      "image/png": "[encoded data removed]",
      "text/plain": [
       "<Figure size 1080x1080 with 2 Axes>"
      ]
     },
     "metadata": {
      "needs_background": "light"
     },
     "output_type": "display_data"
    }
   ],
   "source": [
    "# Removing the outliers \n",
    "df_outliers = df[['power', 'age_car']]\n",
    "outlier_removal(df_outliers, df)"
   ]
  },
  {
   "cell_type": "markdown",
   "metadata": {},
   "source": [
    "All the outliers were removed. "
   ]
  },
  {
   "cell_type": "markdown",
   "metadata": {},
   "source": [
    "**Correlation between features**"
   ]
  },
  {
   "cell_type": "code",
   "execution_count": 34,
   "metadata": {},
   "outputs": [],
   "source": [
    "# Building a heat map correlation function\n",
    "def corr(data):\n",
    "    plt.figure(figsize=(15,5))\n",
    "    ax = sns.heatmap(df.corr(), annot=True, cmap='cividis')\n",
    "    bottom, top = ax.get_ylim()\n",
    "    ax.set_ylim(bottom + 0.5, top - 0.5);\n",
    "    plt.yticks(rotation=0);"
   ]
  },
  {
   "cell_type": "code",
   "execution_count": 35,
   "metadata": {},
   "outputs": [
    {
     "data": {
      "image/png": "[encoded data removed]",
      "text/plain": [
       "<Figure size 1080x360 with 2 Axes>"
      ]
     },
     "metadata": {
      "needs_background": "light"
     },
     "output_type": "display_data"
    }
   ],
   "source": [
    "corr(df)"
   ]
  },
  {
   "cell_type": "markdown",
   "metadata": {},
   "source": [
    "The heatmap of features correlation shows us that all the numerical features have more or less the same significant influence on the price."
   ]
  },
  {
   "cell_type": "markdown",
   "metadata": {},
   "source": [
    "**Missing values**"
   ]
  },
  {
   "cell_type": "code",
   "execution_count": 36,
   "metadata": {},
   "outputs": [
    {
     "data": {
      "text/html": [
       "<style type=\"text/css\">\n",
       "</style>\n",
       "<table id=\"T_adfb8_\">\n",
       "  <thead>\n",
       "    <tr>\n",
       "      <th class=\"blank level0\" >&nbsp;</th>\n",
       "      <th class=\"col_heading level0 col0\" >missing</th>\n",
       "      <th class=\"col_heading level0 col1\" >total</th>\n",
       "      <th class=\"col_heading level0 col2\" >percent</th>\n",
       "    </tr>\n",
       "  </thead>\n",
       "  <tbody>\n",
       "    <tr>\n",
       "      <th id=\"T_adfb8_level0_row0\" class=\"row_heading level0 row0\" >not_repaired</th>\n",
       "      <td id=\"T_adfb8_row0_col0\" class=\"data row0 col0\" >58,667</td>\n",
       "      <td id=\"T_adfb8_row0_col1\" class=\"data row0 col1\" >289,963</td>\n",
       "      <td id=\"T_adfb8_row0_col2\" class=\"data row0 col2\" >20.23%</td>\n",
       "    </tr>\n",
       "    <tr>\n",
       "      <th id=\"T_adfb8_level0_row1\" class=\"row_heading level0 row1\" >vehicle_type</th>\n",
       "      <td id=\"T_adfb8_row1_col0\" class=\"data row1 col0\" >31,194</td>\n",
       "      <td id=\"T_adfb8_row1_col1\" class=\"data row1 col1\" >289,963</td>\n",
       "      <td id=\"T_adfb8_row1_col2\" class=\"data row1 col2\" >10.76%</td>\n",
       "    </tr>\n",
       "    <tr>\n",
       "      <th id=\"T_adfb8_level0_row2\" class=\"row_heading level0 row2\" >fuel_type</th>\n",
       "      <td id=\"T_adfb8_row2_col0\" class=\"data row2 col0\" >27,162</td>\n",
       "      <td id=\"T_adfb8_row2_col1\" class=\"data row2 col1\" >289,963</td>\n",
       "      <td id=\"T_adfb8_row2_col2\" class=\"data row2 col2\" >9.37%</td>\n",
       "    </tr>\n",
       "    <tr>\n",
       "      <th id=\"T_adfb8_level0_row3\" class=\"row_heading level0 row3\" >model</th>\n",
       "      <td id=\"T_adfb8_row3_col0\" class=\"data row3 col0\" >15,408</td>\n",
       "      <td id=\"T_adfb8_row3_col1\" class=\"data row3 col1\" >289,963</td>\n",
       "      <td id=\"T_adfb8_row3_col2\" class=\"data row3 col2\" >5.31%</td>\n",
       "    </tr>\n",
       "    <tr>\n",
       "      <th id=\"T_adfb8_level0_row4\" class=\"row_heading level0 row4\" >gearbox</th>\n",
       "      <td id=\"T_adfb8_row4_col0\" class=\"data row4 col0\" >14,297</td>\n",
       "      <td id=\"T_adfb8_row4_col1\" class=\"data row4 col1\" >289,963</td>\n",
       "      <td id=\"T_adfb8_row4_col2\" class=\"data row4 col2\" >4.93%</td>\n",
       "    </tr>\n",
       "    <tr>\n",
       "      <th id=\"T_adfb8_level0_row5\" class=\"row_heading level0 row5\" >price</th>\n",
       "      <td id=\"T_adfb8_row5_col0\" class=\"data row5 col0\" >0</td>\n",
       "      <td id=\"T_adfb8_row5_col1\" class=\"data row5 col1\" >289,963</td>\n",
       "      <td id=\"T_adfb8_row5_col2\" class=\"data row5 col2\" >0.00%</td>\n",
       "    </tr>\n",
       "    <tr>\n",
       "      <th id=\"T_adfb8_level0_row6\" class=\"row_heading level0 row6\" >power</th>\n",
       "      <td id=\"T_adfb8_row6_col0\" class=\"data row6 col0\" >0</td>\n",
       "      <td id=\"T_adfb8_row6_col1\" class=\"data row6 col1\" >289,963</td>\n",
       "      <td id=\"T_adfb8_row6_col2\" class=\"data row6 col2\" >0.00%</td>\n",
       "    </tr>\n",
       "    <tr>\n",
       "      <th id=\"T_adfb8_level0_row7\" class=\"row_heading level0 row7\" >mileage</th>\n",
       "      <td id=\"T_adfb8_row7_col0\" class=\"data row7 col0\" >0</td>\n",
       "      <td id=\"T_adfb8_row7_col1\" class=\"data row7 col1\" >289,963</td>\n",
       "      <td id=\"T_adfb8_row7_col2\" class=\"data row7 col2\" >0.00%</td>\n",
       "    </tr>\n",
       "    <tr>\n",
       "      <th id=\"T_adfb8_level0_row8\" class=\"row_heading level0 row8\" >brand</th>\n",
       "      <td id=\"T_adfb8_row8_col0\" class=\"data row8 col0\" >0</td>\n",
       "      <td id=\"T_adfb8_row8_col1\" class=\"data row8 col1\" >289,963</td>\n",
       "      <td id=\"T_adfb8_row8_col2\" class=\"data row8 col2\" >0.00%</td>\n",
       "    </tr>\n",
       "    <tr>\n",
       "      <th id=\"T_adfb8_level0_row9\" class=\"row_heading level0 row9\" >age_car</th>\n",
       "      <td id=\"T_adfb8_row9_col0\" class=\"data row9 col0\" >0</td>\n",
       "      <td id=\"T_adfb8_row9_col1\" class=\"data row9 col1\" >289,963</td>\n",
       "      <td id=\"T_adfb8_row9_col2\" class=\"data row9 col2\" >0.00%</td>\n",
       "    </tr>\n",
       "  </tbody>\n",
       "</table>\n"
      ],
      "text/plain": [
       "<pandas.io.formats.style.Styler at 0x7feec62dc850>"
      ]
     },
     "execution_count": 36,
     "metadata": {},
     "output_type": "execute_result"
    }
   ],
   "source": [
    "# Checking for missing values\n",
    "df.stb.missing(style = True)"
   ]
  },
  {
   "cell_type": "markdown",
   "metadata": {},
   "source": [
    "As we noticed before, some features have missing values. In total, we have 5 features with missing values:\n",
    "1. not_repaired - with about 22% missing values\n",
    "2. fuel_type - with about 8.28% missing values\n",
    "3. model - with about 5.23% missing values\n",
    "4. gearbox - with about 5.12% missing values\n",
    "5. vehicle_type - with about 4.47% missing values\n",
    "\n",
    "The percentage of the missing values in the dataset is significant, so we can't just drop them, because then we will lose valuable information. \n",
    "\n",
    "* **not_repaired** - we are going to fill the missing values with the value 'other'. This is meaningfull inforamtion that influence the price, wheter the car was demeged or not.\n",
    "\n",
    "\n",
    "* **All other features** - **Instead, we are going to fill them in**. There are many approaches to filling in the missing values in a data set. One method is to **fill in the missing values with aggregation of other features, but we will not choose this path** since there are many features, and features can be intimately tied to other features in a way that we cannot manually replicate in a reliable way. In this case, we choose the KNN method that takes the row with the missing value, searches for the rows (neighbors) with the same values/closest values, and fills the missing values according to these rows. Because KNN is a distance based algorithm, to implement the KNN method we need first to follow the following steps:\n",
    "\n",
    "1. To scale the data\n",
    "\n",
    "2. To encode the categorical features"
   ]
  },
  {
   "cell_type": "markdown",
   "metadata": {},
   "source": [
    "**Filling the missing values in the not_repaired feature**"
   ]
  },
  {
   "cell_type": "code",
   "execution_count": 37,
   "metadata": {},
   "outputs": [],
   "source": [
    "# Replacing the NaN values with 'other' in 'not_repaired' feature\n",
    "df.not_repaired.fillna('other', inplace = True)"
   ]
  },
  {
   "cell_type": "code",
   "execution_count": 38,
   "metadata": {},
   "outputs": [
    {
     "data": {
      "text/html": [
       "<style type=\"text/css\">\n",
       "</style>\n",
       "<table id=\"T_c8aa8_\">\n",
       "  <thead>\n",
       "    <tr>\n",
       "      <th class=\"blank level0\" >&nbsp;</th>\n",
       "      <th class=\"col_heading level0 col0\" >missing</th>\n",
       "      <th class=\"col_heading level0 col1\" >total</th>\n",
       "      <th class=\"col_heading level0 col2\" >percent</th>\n",
       "    </tr>\n",
       "  </thead>\n",
       "  <tbody>\n",
       "    <tr>\n",
       "      <th id=\"T_c8aa8_level0_row0\" class=\"row_heading level0 row0\" >vehicle_type</th>\n",
       "      <td id=\"T_c8aa8_row0_col0\" class=\"data row0 col0\" >31,194</td>\n",
       "      <td id=\"T_c8aa8_row0_col1\" class=\"data row0 col1\" >289,963</td>\n",
       "      <td id=\"T_c8aa8_row0_col2\" class=\"data row0 col2\" >10.76%</td>\n",
       "    </tr>\n",
       "    <tr>\n",
       "      <th id=\"T_c8aa8_level0_row1\" class=\"row_heading level0 row1\" >fuel_type</th>\n",
       "      <td id=\"T_c8aa8_row1_col0\" class=\"data row1 col0\" >27,162</td>\n",
       "      <td id=\"T_c8aa8_row1_col1\" class=\"data row1 col1\" >289,963</td>\n",
       "      <td id=\"T_c8aa8_row1_col2\" class=\"data row1 col2\" >9.37%</td>\n",
       "    </tr>\n",
       "    <tr>\n",
       "      <th id=\"T_c8aa8_level0_row2\" class=\"row_heading level0 row2\" >model</th>\n",
       "      <td id=\"T_c8aa8_row2_col0\" class=\"data row2 col0\" >15,408</td>\n",
       "      <td id=\"T_c8aa8_row2_col1\" class=\"data row2 col1\" >289,963</td>\n",
       "      <td id=\"T_c8aa8_row2_col2\" class=\"data row2 col2\" >5.31%</td>\n",
       "    </tr>\n",
       "    <tr>\n",
       "      <th id=\"T_c8aa8_level0_row3\" class=\"row_heading level0 row3\" >gearbox</th>\n",
       "      <td id=\"T_c8aa8_row3_col0\" class=\"data row3 col0\" >14,297</td>\n",
       "      <td id=\"T_c8aa8_row3_col1\" class=\"data row3 col1\" >289,963</td>\n",
       "      <td id=\"T_c8aa8_row3_col2\" class=\"data row3 col2\" >4.93%</td>\n",
       "    </tr>\n",
       "    <tr>\n",
       "      <th id=\"T_c8aa8_level0_row4\" class=\"row_heading level0 row4\" >price</th>\n",
       "      <td id=\"T_c8aa8_row4_col0\" class=\"data row4 col0\" >0</td>\n",
       "      <td id=\"T_c8aa8_row4_col1\" class=\"data row4 col1\" >289,963</td>\n",
       "      <td id=\"T_c8aa8_row4_col2\" class=\"data row4 col2\" >0.00%</td>\n",
       "    </tr>\n",
       "    <tr>\n",
       "      <th id=\"T_c8aa8_level0_row5\" class=\"row_heading level0 row5\" >power</th>\n",
       "      <td id=\"T_c8aa8_row5_col0\" class=\"data row5 col0\" >0</td>\n",
       "      <td id=\"T_c8aa8_row5_col1\" class=\"data row5 col1\" >289,963</td>\n",
       "      <td id=\"T_c8aa8_row5_col2\" class=\"data row5 col2\" >0.00%</td>\n",
       "    </tr>\n",
       "    <tr>\n",
       "      <th id=\"T_c8aa8_level0_row6\" class=\"row_heading level0 row6\" >mileage</th>\n",
       "      <td id=\"T_c8aa8_row6_col0\" class=\"data row6 col0\" >0</td>\n",
       "      <td id=\"T_c8aa8_row6_col1\" class=\"data row6 col1\" >289,963</td>\n",
       "      <td id=\"T_c8aa8_row6_col2\" class=\"data row6 col2\" >0.00%</td>\n",
       "    </tr>\n",
       "    <tr>\n",
       "      <th id=\"T_c8aa8_level0_row7\" class=\"row_heading level0 row7\" >brand</th>\n",
       "      <td id=\"T_c8aa8_row7_col0\" class=\"data row7 col0\" >0</td>\n",
       "      <td id=\"T_c8aa8_row7_col1\" class=\"data row7 col1\" >289,963</td>\n",
       "      <td id=\"T_c8aa8_row7_col2\" class=\"data row7 col2\" >0.00%</td>\n",
       "    </tr>\n",
       "    <tr>\n",
       "      <th id=\"T_c8aa8_level0_row8\" class=\"row_heading level0 row8\" >not_repaired</th>\n",
       "      <td id=\"T_c8aa8_row8_col0\" class=\"data row8 col0\" >0</td>\n",
       "      <td id=\"T_c8aa8_row8_col1\" class=\"data row8 col1\" >289,963</td>\n",
       "      <td id=\"T_c8aa8_row8_col2\" class=\"data row8 col2\" >0.00%</td>\n",
       "    </tr>\n",
       "    <tr>\n",
       "      <th id=\"T_c8aa8_level0_row9\" class=\"row_heading level0 row9\" >age_car</th>\n",
       "      <td id=\"T_c8aa8_row9_col0\" class=\"data row9 col0\" >0</td>\n",
       "      <td id=\"T_c8aa8_row9_col1\" class=\"data row9 col1\" >289,963</td>\n",
       "      <td id=\"T_c8aa8_row9_col2\" class=\"data row9 col2\" >0.00%</td>\n",
       "    </tr>\n",
       "  </tbody>\n",
       "</table>\n"
      ],
      "text/plain": [
       "<pandas.io.formats.style.Styler at 0x7feec62f5f10>"
      ]
     },
     "execution_count": 38,
     "metadata": {},
     "output_type": "execute_result"
    }
   ],
   "source": [
    "# Checking the filling was done correctly\n",
    "df.stb.missing(style = True)"
   ]
  },
  {
   "cell_type": "markdown",
   "metadata": {},
   "source": [
    "**Scaling the numerical features**"
   ]
  },
  {
   "cell_type": "markdown",
   "metadata": {},
   "source": [
    "Before splitting the features, we will delete records of brands that have less than 5 samples of a specific model. The number 5 was chosen because we are going to split the dataset in the ratio of 1:3, so a specific model needs at least 5 records to guarantee that it will appear both in the training dataset and test dataset."
   ]
  },
  {
   "cell_type": "code",
   "execution_count": 39,
   "metadata": {},
   "outputs": [],
   "source": [
    "# Creating a list of all the models that have less than 5 records\n",
    "models_count = df.model.value_counts().to_frame()\n",
    "models_to_remove = models_count[models_count.model < 5].index"
   ]
  },
  {
   "cell_type": "code",
   "execution_count": 40,
   "metadata": {},
   "outputs": [],
   "source": [
    "df = df[df.model.isin(models_to_remove) == False]"
   ]
  },
  {
   "cell_type": "code",
   "execution_count": 41,
   "metadata": {},
   "outputs": [
    {
     "data": {
      "text/html": [
       "<style type=\"text/css\">\n",
       "</style>\n",
       "<table id=\"T_5769f_\">\n",
       "  <thead>\n",
       "    <tr>\n",
       "      <th class=\"blank level0\" >&nbsp;</th>\n",
       "      <th class=\"col_heading level0 col0\" >missing</th>\n",
       "      <th class=\"col_heading level0 col1\" >total</th>\n",
       "      <th class=\"col_heading level0 col2\" >percent</th>\n",
       "    </tr>\n",
       "  </thead>\n",
       "  <tbody>\n",
       "    <tr>\n",
       "      <th id=\"T_5769f_level0_row0\" class=\"row_heading level0 row0\" >vehicle_type</th>\n",
       "      <td id=\"T_5769f_row0_col0\" class=\"data row0 col0\" >31,192</td>\n",
       "      <td id=\"T_5769f_row0_col1\" class=\"data row0 col1\" >289,958</td>\n",
       "      <td id=\"T_5769f_row0_col2\" class=\"data row0 col2\" >10.76%</td>\n",
       "    </tr>\n",
       "    <tr>\n",
       "      <th id=\"T_5769f_level0_row1\" class=\"row_heading level0 row1\" >fuel_type</th>\n",
       "      <td id=\"T_5769f_row1_col0\" class=\"data row1 col0\" >27,162</td>\n",
       "      <td id=\"T_5769f_row1_col1\" class=\"data row1 col1\" >289,958</td>\n",
       "      <td id=\"T_5769f_row1_col2\" class=\"data row1 col2\" >9.37%</td>\n",
       "    </tr>\n",
       "    <tr>\n",
       "      <th id=\"T_5769f_level0_row2\" class=\"row_heading level0 row2\" >model</th>\n",
       "      <td id=\"T_5769f_row2_col0\" class=\"data row2 col0\" >15,408</td>\n",
       "      <td id=\"T_5769f_row2_col1\" class=\"data row2 col1\" >289,958</td>\n",
       "      <td id=\"T_5769f_row2_col2\" class=\"data row2 col2\" >5.31%</td>\n",
       "    </tr>\n",
       "    <tr>\n",
       "      <th id=\"T_5769f_level0_row3\" class=\"row_heading level0 row3\" >gearbox</th>\n",
       "      <td id=\"T_5769f_row3_col0\" class=\"data row3 col0\" >14,297</td>\n",
       "      <td id=\"T_5769f_row3_col1\" class=\"data row3 col1\" >289,958</td>\n",
       "      <td id=\"T_5769f_row3_col2\" class=\"data row3 col2\" >4.93%</td>\n",
       "    </tr>\n",
       "    <tr>\n",
       "      <th id=\"T_5769f_level0_row4\" class=\"row_heading level0 row4\" >price</th>\n",
       "      <td id=\"T_5769f_row4_col0\" class=\"data row4 col0\" >0</td>\n",
       "      <td id=\"T_5769f_row4_col1\" class=\"data row4 col1\" >289,958</td>\n",
       "      <td id=\"T_5769f_row4_col2\" class=\"data row4 col2\" >0.00%</td>\n",
       "    </tr>\n",
       "    <tr>\n",
       "      <th id=\"T_5769f_level0_row5\" class=\"row_heading level0 row5\" >power</th>\n",
       "      <td id=\"T_5769f_row5_col0\" class=\"data row5 col0\" >0</td>\n",
       "      <td id=\"T_5769f_row5_col1\" class=\"data row5 col1\" >289,958</td>\n",
       "      <td id=\"T_5769f_row5_col2\" class=\"data row5 col2\" >0.00%</td>\n",
       "    </tr>\n",
       "    <tr>\n",
       "      <th id=\"T_5769f_level0_row6\" class=\"row_heading level0 row6\" >mileage</th>\n",
       "      <td id=\"T_5769f_row6_col0\" class=\"data row6 col0\" >0</td>\n",
       "      <td id=\"T_5769f_row6_col1\" class=\"data row6 col1\" >289,958</td>\n",
       "      <td id=\"T_5769f_row6_col2\" class=\"data row6 col2\" >0.00%</td>\n",
       "    </tr>\n",
       "    <tr>\n",
       "      <th id=\"T_5769f_level0_row7\" class=\"row_heading level0 row7\" >brand</th>\n",
       "      <td id=\"T_5769f_row7_col0\" class=\"data row7 col0\" >0</td>\n",
       "      <td id=\"T_5769f_row7_col1\" class=\"data row7 col1\" >289,958</td>\n",
       "      <td id=\"T_5769f_row7_col2\" class=\"data row7 col2\" >0.00%</td>\n",
       "    </tr>\n",
       "    <tr>\n",
       "      <th id=\"T_5769f_level0_row8\" class=\"row_heading level0 row8\" >not_repaired</th>\n",
       "      <td id=\"T_5769f_row8_col0\" class=\"data row8 col0\" >0</td>\n",
       "      <td id=\"T_5769f_row8_col1\" class=\"data row8 col1\" >289,958</td>\n",
       "      <td id=\"T_5769f_row8_col2\" class=\"data row8 col2\" >0.00%</td>\n",
       "    </tr>\n",
       "    <tr>\n",
       "      <th id=\"T_5769f_level0_row9\" class=\"row_heading level0 row9\" >age_car</th>\n",
       "      <td id=\"T_5769f_row9_col0\" class=\"data row9 col0\" >0</td>\n",
       "      <td id=\"T_5769f_row9_col1\" class=\"data row9 col1\" >289,958</td>\n",
       "      <td id=\"T_5769f_row9_col2\" class=\"data row9 col2\" >0.00%</td>\n",
       "    </tr>\n",
       "  </tbody>\n",
       "</table>\n"
      ],
      "text/plain": [
       "<pandas.io.formats.style.Styler at 0x7feed12845e0>"
      ]
     },
     "execution_count": 41,
     "metadata": {},
     "output_type": "execute_result"
    }
   ],
   "source": [
    "df.stb.missing(style = True)"
   ]
  },
  {
   "cell_type": "code",
   "execution_count": 42,
   "metadata": {},
   "outputs": [],
   "source": [
    "# Splitting the dataset to train and test in ratio of 25:75 before scaling\n",
    "df_train, df_test = train_test_split(df, test_size = 0.25, random_state = 12345)"
   ]
  },
  {
   "cell_type": "code",
   "execution_count": 43,
   "metadata": {},
   "outputs": [],
   "source": [
    "# Saving the taget variable in separate variable\n",
    "price_train = df_train['price'].reset_index(drop = True)\n",
    "price_test = df_test['price'].reset_index(drop = True)"
   ]
  },
  {
   "cell_type": "code",
   "execution_count": 44,
   "metadata": {},
   "outputs": [],
   "source": [
    "# Setting a MinMax instance\n",
    "scaler = MinMaxScaler()\n",
    "\n",
    "# Updating the list of numerical features to keep things right\n",
    "no_scale = ['vehicle_type', 'gearbox', 'model',\n",
    "            'fuel_type', 'brand', 'not_repaired','price']\n",
    "num_col = [x for x in df.columns if x not in no_scale]\n",
    "\n",
    "# Scaling the relevant features in both datasets\n",
    "df_train_scaled = pd.DataFrame(scaler.fit_transform(df_train[num_col].copy()), columns = num_col).reset_index(drop = True)\n",
    "df_test_scaled = pd.DataFrame(scaler.transform(df_test[num_col].copy()), columns = num_col).reset_index(drop = True)"
   ]
  },
  {
   "cell_type": "code",
   "execution_count": 45,
   "metadata": {},
   "outputs": [
    {
     "data": {
      "text/html": [
       "<div>\n",
       "<style scoped>\n",
       "    .dataframe tbody tr th:only-of-type {\n",
       "        vertical-align: middle;\n",
       "    }\n",
       "\n",
       "    .dataframe tbody tr th {\n",
       "        vertical-align: top;\n",
       "    }\n",
       "\n",
       "    .dataframe thead th {\n",
       "        text-align: right;\n",
       "    }\n",
       "</style>\n",
       "<table border=\"1\" class=\"dataframe\">\n",
       "  <thead>\n",
       "    <tr style=\"text-align: right;\">\n",
       "      <th></th>\n",
       "      <th>power</th>\n",
       "      <th>mileage</th>\n",
       "      <th>age_car</th>\n",
       "    </tr>\n",
       "  </thead>\n",
       "  <tbody>\n",
       "    <tr>\n",
       "      <th>0</th>\n",
       "      <td>0.000000</td>\n",
       "      <td>1.000000</td>\n",
       "      <td>0.545455</td>\n",
       "    </tr>\n",
       "    <tr>\n",
       "      <th>1</th>\n",
       "      <td>0.182927</td>\n",
       "      <td>0.615385</td>\n",
       "      <td>0.666667</td>\n",
       "    </tr>\n",
       "    <tr>\n",
       "      <th>2</th>\n",
       "      <td>0.386179</td>\n",
       "      <td>0.807692</td>\n",
       "      <td>0.272727</td>\n",
       "    </tr>\n",
       "  </tbody>\n",
       "</table>\n",
       "</div>"
      ],
      "text/plain": [
       "      power   mileage   age_car\n",
       "0  0.000000  1.000000  0.545455\n",
       "1  0.182927  0.615385  0.666667\n",
       "2  0.386179  0.807692  0.272727"
      ]
     },
     "execution_count": 45,
     "metadata": {},
     "output_type": "execute_result"
    }
   ],
   "source": [
    "df_train_scaled.head(3)"
   ]
  },
  {
   "cell_type": "code",
   "execution_count": 46,
   "metadata": {},
   "outputs": [
    {
     "data": {
      "text/html": [
       "<div>\n",
       "<style scoped>\n",
       "    .dataframe tbody tr th:only-of-type {\n",
       "        vertical-align: middle;\n",
       "    }\n",
       "\n",
       "    .dataframe tbody tr th {\n",
       "        vertical-align: top;\n",
       "    }\n",
       "\n",
       "    .dataframe thead th {\n",
       "        text-align: right;\n",
       "    }\n",
       "</style>\n",
       "<table border=\"1\" class=\"dataframe\">\n",
       "  <thead>\n",
       "    <tr style=\"text-align: right;\">\n",
       "      <th></th>\n",
       "      <th>power</th>\n",
       "      <th>mileage</th>\n",
       "      <th>age_car</th>\n",
       "    </tr>\n",
       "  </thead>\n",
       "  <tbody>\n",
       "    <tr>\n",
       "      <th>0</th>\n",
       "      <td>0.406504</td>\n",
       "      <td>1.000000</td>\n",
       "      <td>0.060606</td>\n",
       "    </tr>\n",
       "    <tr>\n",
       "      <th>1</th>\n",
       "      <td>0.000000</td>\n",
       "      <td>1.000000</td>\n",
       "      <td>0.454545</td>\n",
       "    </tr>\n",
       "    <tr>\n",
       "      <th>2</th>\n",
       "      <td>0.581301</td>\n",
       "      <td>0.615385</td>\n",
       "      <td>0.454545</td>\n",
       "    </tr>\n",
       "  </tbody>\n",
       "</table>\n",
       "</div>"
      ],
      "text/plain": [
       "      power   mileage   age_car\n",
       "0  0.406504  1.000000  0.060606\n",
       "1  0.000000  1.000000  0.454545\n",
       "2  0.581301  0.615385  0.454545"
      ]
     },
     "execution_count": 46,
     "metadata": {},
     "output_type": "execute_result"
    }
   ],
   "source": [
    "df_test_scaled.head(3)"
   ]
  },
  {
   "cell_type": "markdown",
   "metadata": {},
   "source": [
    "**Encoding the categorical features for regression models**"
   ]
  },
  {
   "cell_type": "code",
   "execution_count": 47,
   "metadata": {},
   "outputs": [],
   "source": [
    "# Initiate the encoder  \n",
    "encoder = OrdinalEncoder()\n",
    "\n",
    "# Building a function to encode the categorical variables\n",
    "def encode(data_train, data_test):\n",
    "    \n",
    "    # Retaining only non-null values\n",
    "    nonulls_train = np.array(data_train.dropna())\n",
    "    nonulls_test = np.array(data_test.dropna())\n",
    "    \n",
    "    # Reshaping the data for encoding\n",
    "    impute_reshape_train = nonulls_train.reshape(-1,1)\n",
    "    impute_reshape_test = nonulls_test.reshape(-1,1)\n",
    "    \n",
    "    # Encoding the data\n",
    "    impute_ordinal_train = encoder.fit_transform(impute_reshape_train)\n",
    "    impute_ordinal_test = encoder.transform(impute_reshape_test)\n",
    "    \n",
    "    #Assigning back encoded values to non-null values\n",
    "    data_train.loc[data_train.notnull()] = np.squeeze(impute_ordinal_train)\n",
    "    data_test.loc[data_test.notnull()] = np.squeeze(impute_ordinal_test)\n",
    "    \n",
    "    return data_train, data_test"
   ]
  },
  {
   "cell_type": "code",
   "execution_count": 48,
   "metadata": {},
   "outputs": [
    {
     "data": {
      "text/plain": [
       "['vehicle_type', 'gearbox', 'model', 'fuel_type', 'brand', 'not_repaired']"
      ]
     },
     "execution_count": 48,
     "metadata": {},
     "output_type": "execute_result"
    }
   ],
   "source": [
    "cat_col"
   ]
  },
  {
   "cell_type": "code",
   "execution_count": 49,
   "metadata": {},
   "outputs": [],
   "source": [
    "# Building a loop to iterate over the categorical columns to encode them in both datasets\n",
    "for col in cat_col:\n",
    "    encode(df_train[col], df_test[col])\n",
    "    \n",
    "# Setting the encoded features to unique variables    \n",
    "df_train_encoded = df_train[cat_col].reset_index(drop = True)\n",
    "df_test_encoded = df_test[cat_col].reset_index(drop = True)"
   ]
  },
  {
   "cell_type": "code",
   "execution_count": 50,
   "metadata": {},
   "outputs": [
    {
     "data": {
      "text/html": [
       "<div>\n",
       "<style scoped>\n",
       "    .dataframe tbody tr th:only-of-type {\n",
       "        vertical-align: middle;\n",
       "    }\n",
       "\n",
       "    .dataframe tbody tr th {\n",
       "        vertical-align: top;\n",
       "    }\n",
       "\n",
       "    .dataframe thead th {\n",
       "        text-align: right;\n",
       "    }\n",
       "</style>\n",
       "<table border=\"1\" class=\"dataframe\">\n",
       "  <thead>\n",
       "    <tr style=\"text-align: right;\">\n",
       "      <th></th>\n",
       "      <th>vehicle_type</th>\n",
       "      <th>gearbox</th>\n",
       "      <th>model</th>\n",
       "      <th>fuel_type</th>\n",
       "      <th>brand</th>\n",
       "      <th>not_repaired</th>\n",
       "    </tr>\n",
       "  </thead>\n",
       "  <tbody>\n",
       "    <tr>\n",
       "      <th>0</th>\n",
       "      <td>5.0</td>\n",
       "      <td>0.0</td>\n",
       "      <td>106.0</td>\n",
       "      <td>6.0</td>\n",
       "      <td>32.0</td>\n",
       "      <td>2.0</td>\n",
       "    </tr>\n",
       "    <tr>\n",
       "      <th>1</th>\n",
       "      <td>5.0</td>\n",
       "      <td>1.0</td>\n",
       "      <td>173.0</td>\n",
       "      <td>6.0</td>\n",
       "      <td>38.0</td>\n",
       "      <td>1.0</td>\n",
       "    </tr>\n",
       "    <tr>\n",
       "      <th>2</th>\n",
       "      <td>5.0</td>\n",
       "      <td>1.0</td>\n",
       "      <td>13.0</td>\n",
       "      <td>2.0</td>\n",
       "      <td>9.0</td>\n",
       "      <td>0.0</td>\n",
       "    </tr>\n",
       "  </tbody>\n",
       "</table>\n",
       "</div>"
      ],
      "text/plain": [
       "  vehicle_type gearbox  model fuel_type brand not_repaired\n",
       "0          5.0     0.0  106.0       6.0  32.0          2.0\n",
       "1          5.0     1.0  173.0       6.0  38.0          1.0\n",
       "2          5.0     1.0   13.0       2.0   9.0          0.0"
      ]
     },
     "execution_count": 50,
     "metadata": {},
     "output_type": "execute_result"
    }
   ],
   "source": [
    "df_train_encoded.head(3)"
   ]
  },
  {
   "cell_type": "code",
   "execution_count": 51,
   "metadata": {},
   "outputs": [
    {
     "data": {
      "text/html": [
       "<div>\n",
       "<style scoped>\n",
       "    .dataframe tbody tr th:only-of-type {\n",
       "        vertical-align: middle;\n",
       "    }\n",
       "\n",
       "    .dataframe tbody tr th {\n",
       "        vertical-align: top;\n",
       "    }\n",
       "\n",
       "    .dataframe thead th {\n",
       "        text-align: right;\n",
       "    }\n",
       "</style>\n",
       "<table border=\"1\" class=\"dataframe\">\n",
       "  <thead>\n",
       "    <tr style=\"text-align: right;\">\n",
       "      <th></th>\n",
       "      <th>vehicle_type</th>\n",
       "      <th>gearbox</th>\n",
       "      <th>model</th>\n",
       "      <th>fuel_type</th>\n",
       "      <th>brand</th>\n",
       "      <th>not_repaired</th>\n",
       "    </tr>\n",
       "  </thead>\n",
       "  <tbody>\n",
       "    <tr>\n",
       "      <th>0</th>\n",
       "      <td>NaN</td>\n",
       "      <td>1.0</td>\n",
       "      <td>116.0</td>\n",
       "      <td>NaN</td>\n",
       "      <td>38.0</td>\n",
       "      <td>0.0</td>\n",
       "    </tr>\n",
       "    <tr>\n",
       "      <th>1</th>\n",
       "      <td>7.0</td>\n",
       "      <td>1.0</td>\n",
       "      <td>154.0</td>\n",
       "      <td>2.0</td>\n",
       "      <td>10.0</td>\n",
       "      <td>1.0</td>\n",
       "    </tr>\n",
       "    <tr>\n",
       "      <th>2</th>\n",
       "      <td>4.0</td>\n",
       "      <td>0.0</td>\n",
       "      <td>59.0</td>\n",
       "      <td>6.0</td>\n",
       "      <td>20.0</td>\n",
       "      <td>0.0</td>\n",
       "    </tr>\n",
       "  </tbody>\n",
       "</table>\n",
       "</div>"
      ],
      "text/plain": [
       "  vehicle_type gearbox  model fuel_type brand not_repaired\n",
       "0          NaN     1.0  116.0       NaN  38.0          0.0\n",
       "1          7.0     1.0  154.0       2.0  10.0          1.0\n",
       "2          4.0     0.0   59.0       6.0  20.0          0.0"
      ]
     },
     "execution_count": 51,
     "metadata": {},
     "output_type": "execute_result"
    }
   ],
   "source": [
    "df_test_encoded.head(3)"
   ]
  },
  {
   "cell_type": "markdown",
   "metadata": {},
   "source": [
    "We have encoded all the categorical features in both train and test sets. Now we will combine the scaled numerical features with the encoded features and the target varaible to one dataset to fill the missing values."
   ]
  },
  {
   "cell_type": "code",
   "execution_count": 52,
   "metadata": {},
   "outputs": [],
   "source": [
    "# Combining the scaled numerical features and encoded categorical features into one train dataset\n",
    "df_train_features = pd.concat([df_train_scaled, df_train_encoded], axis = 1).reset_index(drop = True)\n",
    "\n",
    "# Combining the scaled numerical features and encoded categorical features into one test dataset\n",
    "df_test_features = pd.concat([df_test_scaled, df_test_encoded], axis = 1).reset_index(drop = True)"
   ]
  },
  {
   "cell_type": "code",
   "execution_count": 53,
   "metadata": {},
   "outputs": [
    {
     "data": {
      "text/html": [
       "<div>\n",
       "<style scoped>\n",
       "    .dataframe tbody tr th:only-of-type {\n",
       "        vertical-align: middle;\n",
       "    }\n",
       "\n",
       "    .dataframe tbody tr th {\n",
       "        vertical-align: top;\n",
       "    }\n",
       "\n",
       "    .dataframe thead th {\n",
       "        text-align: right;\n",
       "    }\n",
       "</style>\n",
       "<table border=\"1\" class=\"dataframe\">\n",
       "  <thead>\n",
       "    <tr style=\"text-align: right;\">\n",
       "      <th></th>\n",
       "      <th>power</th>\n",
       "      <th>mileage</th>\n",
       "      <th>age_car</th>\n",
       "      <th>vehicle_type</th>\n",
       "      <th>gearbox</th>\n",
       "      <th>model</th>\n",
       "      <th>fuel_type</th>\n",
       "      <th>brand</th>\n",
       "      <th>not_repaired</th>\n",
       "    </tr>\n",
       "  </thead>\n",
       "  <tbody>\n",
       "    <tr>\n",
       "      <th>0</th>\n",
       "      <td>0.000000</td>\n",
       "      <td>1.000000</td>\n",
       "      <td>0.545455</td>\n",
       "      <td>5.0</td>\n",
       "      <td>0.0</td>\n",
       "      <td>106.0</td>\n",
       "      <td>6.0</td>\n",
       "      <td>32.0</td>\n",
       "      <td>2.0</td>\n",
       "    </tr>\n",
       "    <tr>\n",
       "      <th>1</th>\n",
       "      <td>0.182927</td>\n",
       "      <td>0.615385</td>\n",
       "      <td>0.666667</td>\n",
       "      <td>5.0</td>\n",
       "      <td>1.0</td>\n",
       "      <td>173.0</td>\n",
       "      <td>6.0</td>\n",
       "      <td>38.0</td>\n",
       "      <td>1.0</td>\n",
       "    </tr>\n",
       "    <tr>\n",
       "      <th>2</th>\n",
       "      <td>0.386179</td>\n",
       "      <td>0.807692</td>\n",
       "      <td>0.272727</td>\n",
       "      <td>5.0</td>\n",
       "      <td>1.0</td>\n",
       "      <td>13.0</td>\n",
       "      <td>2.0</td>\n",
       "      <td>9.0</td>\n",
       "      <td>0.0</td>\n",
       "    </tr>\n",
       "  </tbody>\n",
       "</table>\n",
       "</div>"
      ],
      "text/plain": [
       "      power   mileage   age_car vehicle_type gearbox  model fuel_type brand  \\\n",
       "0  0.000000  1.000000  0.545455          5.0     0.0  106.0       6.0  32.0   \n",
       "1  0.182927  0.615385  0.666667          5.0     1.0  173.0       6.0  38.0   \n",
       "2  0.386179  0.807692  0.272727          5.0     1.0   13.0       2.0   9.0   \n",
       "\n",
       "  not_repaired  \n",
       "0          2.0  \n",
       "1          1.0  \n",
       "2          0.0  "
      ]
     },
     "execution_count": 53,
     "metadata": {},
     "output_type": "execute_result"
    }
   ],
   "source": [
    "df_train_features.head(3)"
   ]
  },
  {
   "cell_type": "code",
   "execution_count": 54,
   "metadata": {},
   "outputs": [
    {
     "data": {
      "text/html": [
       "<div>\n",
       "<style scoped>\n",
       "    .dataframe tbody tr th:only-of-type {\n",
       "        vertical-align: middle;\n",
       "    }\n",
       "\n",
       "    .dataframe tbody tr th {\n",
       "        vertical-align: top;\n",
       "    }\n",
       "\n",
       "    .dataframe thead th {\n",
       "        text-align: right;\n",
       "    }\n",
       "</style>\n",
       "<table border=\"1\" class=\"dataframe\">\n",
       "  <thead>\n",
       "    <tr style=\"text-align: right;\">\n",
       "      <th></th>\n",
       "      <th>power</th>\n",
       "      <th>mileage</th>\n",
       "      <th>age_car</th>\n",
       "      <th>vehicle_type</th>\n",
       "      <th>gearbox</th>\n",
       "      <th>model</th>\n",
       "      <th>fuel_type</th>\n",
       "      <th>brand</th>\n",
       "      <th>not_repaired</th>\n",
       "    </tr>\n",
       "  </thead>\n",
       "  <tbody>\n",
       "    <tr>\n",
       "      <th>0</th>\n",
       "      <td>0.406504</td>\n",
       "      <td>1.000000</td>\n",
       "      <td>0.060606</td>\n",
       "      <td>NaN</td>\n",
       "      <td>1.0</td>\n",
       "      <td>116.0</td>\n",
       "      <td>NaN</td>\n",
       "      <td>38.0</td>\n",
       "      <td>0.0</td>\n",
       "    </tr>\n",
       "    <tr>\n",
       "      <th>1</th>\n",
       "      <td>0.000000</td>\n",
       "      <td>1.000000</td>\n",
       "      <td>0.454545</td>\n",
       "      <td>7.0</td>\n",
       "      <td>1.0</td>\n",
       "      <td>154.0</td>\n",
       "      <td>2.0</td>\n",
       "      <td>10.0</td>\n",
       "      <td>1.0</td>\n",
       "    </tr>\n",
       "    <tr>\n",
       "      <th>2</th>\n",
       "      <td>0.581301</td>\n",
       "      <td>0.615385</td>\n",
       "      <td>0.454545</td>\n",
       "      <td>4.0</td>\n",
       "      <td>0.0</td>\n",
       "      <td>59.0</td>\n",
       "      <td>6.0</td>\n",
       "      <td>20.0</td>\n",
       "      <td>0.0</td>\n",
       "    </tr>\n",
       "  </tbody>\n",
       "</table>\n",
       "</div>"
      ],
      "text/plain": [
       "      power   mileage   age_car vehicle_type gearbox  model fuel_type brand  \\\n",
       "0  0.406504  1.000000  0.060606          NaN     1.0  116.0       NaN  38.0   \n",
       "1  0.000000  1.000000  0.454545          7.0     1.0  154.0       2.0  10.0   \n",
       "2  0.581301  0.615385  0.454545          4.0     0.0   59.0       6.0  20.0   \n",
       "\n",
       "  not_repaired  \n",
       "0          0.0  \n",
       "1          1.0  \n",
       "2          0.0  "
      ]
     },
     "execution_count": 54,
     "metadata": {},
     "output_type": "execute_result"
    }
   ],
   "source": [
    "df_test_features.head(3)"
   ]
  },
  {
   "cell_type": "markdown",
   "metadata": {},
   "source": [
    "**Filling in the missing values**"
   ]
  },
  {
   "cell_type": "code",
   "execution_count": 55,
   "metadata": {},
   "outputs": [],
   "source": [
    "# Initiate an instance of KNN imputer to fill in the missing values\n",
    "imputer = KNNImputer()\n",
    "\n",
    "# Filling in the missing values in the train dataset and adding back the target variable 'price'\n",
    "df_train = pd.concat([pd.DataFrame(imputer.fit_transform(df_train_features), columns = df_train_features.columns), price_train],\n",
    "                     axis = 1)\n",
    "\n",
    "# Filling in the missing values in the test dataset and adding back the target variable 'price'\n",
    "df_test = pd.concat([pd.DataFrame(imputer.transform(df_test_features), columns = df_test_features.columns), price_test],\n",
    "                     axis = 1)"
   ]
  },
  {
   "cell_type": "code",
   "execution_count": 56,
   "metadata": {},
   "outputs": [
    {
     "data": {
      "text/html": [
       "<style type=\"text/css\">\n",
       "</style>\n",
       "<table id=\"T_b243f_\">\n",
       "  <thead>\n",
       "    <tr>\n",
       "      <th class=\"blank level0\" >&nbsp;</th>\n",
       "      <th class=\"col_heading level0 col0\" >missing</th>\n",
       "      <th class=\"col_heading level0 col1\" >total</th>\n",
       "      <th class=\"col_heading level0 col2\" >percent</th>\n",
       "    </tr>\n",
       "  </thead>\n",
       "  <tbody>\n",
       "    <tr>\n",
       "      <th id=\"T_b243f_level0_row0\" class=\"row_heading level0 row0\" >power</th>\n",
       "      <td id=\"T_b243f_row0_col0\" class=\"data row0 col0\" >0</td>\n",
       "      <td id=\"T_b243f_row0_col1\" class=\"data row0 col1\" >217,468</td>\n",
       "      <td id=\"T_b243f_row0_col2\" class=\"data row0 col2\" >0.00%</td>\n",
       "    </tr>\n",
       "    <tr>\n",
       "      <th id=\"T_b243f_level0_row1\" class=\"row_heading level0 row1\" >mileage</th>\n",
       "      <td id=\"T_b243f_row1_col0\" class=\"data row1 col0\" >0</td>\n",
       "      <td id=\"T_b243f_row1_col1\" class=\"data row1 col1\" >217,468</td>\n",
       "      <td id=\"T_b243f_row1_col2\" class=\"data row1 col2\" >0.00%</td>\n",
       "    </tr>\n",
       "    <tr>\n",
       "      <th id=\"T_b243f_level0_row2\" class=\"row_heading level0 row2\" >age_car</th>\n",
       "      <td id=\"T_b243f_row2_col0\" class=\"data row2 col0\" >0</td>\n",
       "      <td id=\"T_b243f_row2_col1\" class=\"data row2 col1\" >217,468</td>\n",
       "      <td id=\"T_b243f_row2_col2\" class=\"data row2 col2\" >0.00%</td>\n",
       "    </tr>\n",
       "    <tr>\n",
       "      <th id=\"T_b243f_level0_row3\" class=\"row_heading level0 row3\" >vehicle_type</th>\n",
       "      <td id=\"T_b243f_row3_col0\" class=\"data row3 col0\" >0</td>\n",
       "      <td id=\"T_b243f_row3_col1\" class=\"data row3 col1\" >217,468</td>\n",
       "      <td id=\"T_b243f_row3_col2\" class=\"data row3 col2\" >0.00%</td>\n",
       "    </tr>\n",
       "    <tr>\n",
       "      <th id=\"T_b243f_level0_row4\" class=\"row_heading level0 row4\" >gearbox</th>\n",
       "      <td id=\"T_b243f_row4_col0\" class=\"data row4 col0\" >0</td>\n",
       "      <td id=\"T_b243f_row4_col1\" class=\"data row4 col1\" >217,468</td>\n",
       "      <td id=\"T_b243f_row4_col2\" class=\"data row4 col2\" >0.00%</td>\n",
       "    </tr>\n",
       "    <tr>\n",
       "      <th id=\"T_b243f_level0_row5\" class=\"row_heading level0 row5\" >model</th>\n",
       "      <td id=\"T_b243f_row5_col0\" class=\"data row5 col0\" >0</td>\n",
       "      <td id=\"T_b243f_row5_col1\" class=\"data row5 col1\" >217,468</td>\n",
       "      <td id=\"T_b243f_row5_col2\" class=\"data row5 col2\" >0.00%</td>\n",
       "    </tr>\n",
       "    <tr>\n",
       "      <th id=\"T_b243f_level0_row6\" class=\"row_heading level0 row6\" >fuel_type</th>\n",
       "      <td id=\"T_b243f_row6_col0\" class=\"data row6 col0\" >0</td>\n",
       "      <td id=\"T_b243f_row6_col1\" class=\"data row6 col1\" >217,468</td>\n",
       "      <td id=\"T_b243f_row6_col2\" class=\"data row6 col2\" >0.00%</td>\n",
       "    </tr>\n",
       "    <tr>\n",
       "      <th id=\"T_b243f_level0_row7\" class=\"row_heading level0 row7\" >brand</th>\n",
       "      <td id=\"T_b243f_row7_col0\" class=\"data row7 col0\" >0</td>\n",
       "      <td id=\"T_b243f_row7_col1\" class=\"data row7 col1\" >217,468</td>\n",
       "      <td id=\"T_b243f_row7_col2\" class=\"data row7 col2\" >0.00%</td>\n",
       "    </tr>\n",
       "    <tr>\n",
       "      <th id=\"T_b243f_level0_row8\" class=\"row_heading level0 row8\" >not_repaired</th>\n",
       "      <td id=\"T_b243f_row8_col0\" class=\"data row8 col0\" >0</td>\n",
       "      <td id=\"T_b243f_row8_col1\" class=\"data row8 col1\" >217,468</td>\n",
       "      <td id=\"T_b243f_row8_col2\" class=\"data row8 col2\" >0.00%</td>\n",
       "    </tr>\n",
       "    <tr>\n",
       "      <th id=\"T_b243f_level0_row9\" class=\"row_heading level0 row9\" >price</th>\n",
       "      <td id=\"T_b243f_row9_col0\" class=\"data row9 col0\" >0</td>\n",
       "      <td id=\"T_b243f_row9_col1\" class=\"data row9 col1\" >217,468</td>\n",
       "      <td id=\"T_b243f_row9_col2\" class=\"data row9 col2\" >0.00%</td>\n",
       "    </tr>\n",
       "  </tbody>\n",
       "</table>\n"
      ],
      "text/plain": [
       "<pandas.io.formats.style.Styler at 0x7feed125a910>"
      ]
     },
     "execution_count": 56,
     "metadata": {},
     "output_type": "execute_result"
    }
   ],
   "source": [
    "# Checking the filling proccess for the train dataset\n",
    "df_train.stb.missing(style = True)"
   ]
  },
  {
   "cell_type": "code",
   "execution_count": 57,
   "metadata": {},
   "outputs": [
    {
     "data": {
      "text/html": [
       "<style type=\"text/css\">\n",
       "</style>\n",
       "<table id=\"T_f80bb_\">\n",
       "  <thead>\n",
       "    <tr>\n",
       "      <th class=\"blank level0\" >&nbsp;</th>\n",
       "      <th class=\"col_heading level0 col0\" >missing</th>\n",
       "      <th class=\"col_heading level0 col1\" >total</th>\n",
       "      <th class=\"col_heading level0 col2\" >percent</th>\n",
       "    </tr>\n",
       "  </thead>\n",
       "  <tbody>\n",
       "    <tr>\n",
       "      <th id=\"T_f80bb_level0_row0\" class=\"row_heading level0 row0\" >power</th>\n",
       "      <td id=\"T_f80bb_row0_col0\" class=\"data row0 col0\" >0</td>\n",
       "      <td id=\"T_f80bb_row0_col1\" class=\"data row0 col1\" >72,490</td>\n",
       "      <td id=\"T_f80bb_row0_col2\" class=\"data row0 col2\" >0.00%</td>\n",
       "    </tr>\n",
       "    <tr>\n",
       "      <th id=\"T_f80bb_level0_row1\" class=\"row_heading level0 row1\" >mileage</th>\n",
       "      <td id=\"T_f80bb_row1_col0\" class=\"data row1 col0\" >0</td>\n",
       "      <td id=\"T_f80bb_row1_col1\" class=\"data row1 col1\" >72,490</td>\n",
       "      <td id=\"T_f80bb_row1_col2\" class=\"data row1 col2\" >0.00%</td>\n",
       "    </tr>\n",
       "    <tr>\n",
       "      <th id=\"T_f80bb_level0_row2\" class=\"row_heading level0 row2\" >age_car</th>\n",
       "      <td id=\"T_f80bb_row2_col0\" class=\"data row2 col0\" >0</td>\n",
       "      <td id=\"T_f80bb_row2_col1\" class=\"data row2 col1\" >72,490</td>\n",
       "      <td id=\"T_f80bb_row2_col2\" class=\"data row2 col2\" >0.00%</td>\n",
       "    </tr>\n",
       "    <tr>\n",
       "      <th id=\"T_f80bb_level0_row3\" class=\"row_heading level0 row3\" >vehicle_type</th>\n",
       "      <td id=\"T_f80bb_row3_col0\" class=\"data row3 col0\" >0</td>\n",
       "      <td id=\"T_f80bb_row3_col1\" class=\"data row3 col1\" >72,490</td>\n",
       "      <td id=\"T_f80bb_row3_col2\" class=\"data row3 col2\" >0.00%</td>\n",
       "    </tr>\n",
       "    <tr>\n",
       "      <th id=\"T_f80bb_level0_row4\" class=\"row_heading level0 row4\" >gearbox</th>\n",
       "      <td id=\"T_f80bb_row4_col0\" class=\"data row4 col0\" >0</td>\n",
       "      <td id=\"T_f80bb_row4_col1\" class=\"data row4 col1\" >72,490</td>\n",
       "      <td id=\"T_f80bb_row4_col2\" class=\"data row4 col2\" >0.00%</td>\n",
       "    </tr>\n",
       "    <tr>\n",
       "      <th id=\"T_f80bb_level0_row5\" class=\"row_heading level0 row5\" >model</th>\n",
       "      <td id=\"T_f80bb_row5_col0\" class=\"data row5 col0\" >0</td>\n",
       "      <td id=\"T_f80bb_row5_col1\" class=\"data row5 col1\" >72,490</td>\n",
       "      <td id=\"T_f80bb_row5_col2\" class=\"data row5 col2\" >0.00%</td>\n",
       "    </tr>\n",
       "    <tr>\n",
       "      <th id=\"T_f80bb_level0_row6\" class=\"row_heading level0 row6\" >fuel_type</th>\n",
       "      <td id=\"T_f80bb_row6_col0\" class=\"data row6 col0\" >0</td>\n",
       "      <td id=\"T_f80bb_row6_col1\" class=\"data row6 col1\" >72,490</td>\n",
       "      <td id=\"T_f80bb_row6_col2\" class=\"data row6 col2\" >0.00%</td>\n",
       "    </tr>\n",
       "    <tr>\n",
       "      <th id=\"T_f80bb_level0_row7\" class=\"row_heading level0 row7\" >brand</th>\n",
       "      <td id=\"T_f80bb_row7_col0\" class=\"data row7 col0\" >0</td>\n",
       "      <td id=\"T_f80bb_row7_col1\" class=\"data row7 col1\" >72,490</td>\n",
       "      <td id=\"T_f80bb_row7_col2\" class=\"data row7 col2\" >0.00%</td>\n",
       "    </tr>\n",
       "    <tr>\n",
       "      <th id=\"T_f80bb_level0_row8\" class=\"row_heading level0 row8\" >not_repaired</th>\n",
       "      <td id=\"T_f80bb_row8_col0\" class=\"data row8 col0\" >0</td>\n",
       "      <td id=\"T_f80bb_row8_col1\" class=\"data row8 col1\" >72,490</td>\n",
       "      <td id=\"T_f80bb_row8_col2\" class=\"data row8 col2\" >0.00%</td>\n",
       "    </tr>\n",
       "    <tr>\n",
       "      <th id=\"T_f80bb_level0_row9\" class=\"row_heading level0 row9\" >price</th>\n",
       "      <td id=\"T_f80bb_row9_col0\" class=\"data row9 col0\" >0</td>\n",
       "      <td id=\"T_f80bb_row9_col1\" class=\"data row9 col1\" >72,490</td>\n",
       "      <td id=\"T_f80bb_row9_col2\" class=\"data row9 col2\" >0.00%</td>\n",
       "    </tr>\n",
       "  </tbody>\n",
       "</table>\n"
      ],
      "text/plain": [
       "<pandas.io.formats.style.Styler at 0x7feed125a1f0>"
      ]
     },
     "execution_count": 57,
     "metadata": {},
     "output_type": "execute_result"
    }
   ],
   "source": [
    "# Checking the filling proccess for the test dataset\n",
    "df_test.stb.missing(style = True)"
   ]
  },
  {
   "cell_type": "markdown",
   "metadata": {},
   "source": [
    "At this step, we cleaned the data and prepared it for model training and testing. When pre-processing the data we removed several features that didn't contribute information to model building. The features that were removed are:\n",
    "1. **postal_code** - it's basically like an index of a user. It has no influence on the vehicle price.\n",
    "2. **date_crawled** - this column has the same values as the date_created feature, so we deleted it to avoid duplicates.\n",
    "3. **last_seen** - the user's app usage patterns have no influence on the vehicle price. The price of the car won't change if the user uses the app every day or once a month.\n",
    "4. **data_created** - we removed it, after transforming it to numerical data.\n",
    "5. **date_created_year** - we used to calculate the age feature.\n",
    "6. **date_created_month** - it has no influence on the price. We only used it for exploring users' behaviour.\n",
    "7. **date_created_year** - it has no influence on the price. We only used it for exploring users' behaviour.\n",
    "8. **date_created_week** - it has no influence on the price. We only used it for exploring users' behaviour.\n",
    "9. **date_created_dayofweek** - it has no influence on the price. We only used it for exploring users' behaviour.\n",
    "6. **registration_year** - after creating the 'age' variable, the 'registration_year' feature become meaningless, because we transformed its' data to age.  \n",
    "7. **registration_month** - it has no influence on the car's price.\n",
    "8. **number_of_pictures** - it had only one value - 0. As was mentioned before, features with a single value don't contain any information for model training and testing.\n",
    "\n",
    "Also, we **deleted duplicates**, **removed outliers**, and filled in missing values. To remove the outliers we build a function that will run on the entire dataset, and for the missing values filling, we used the KNNImputer. Before implementing the KNN method to fill in the missing values, we first scaled the numerical features and also encoded the categorical features. \n",
    "\n",
    "Now the data is ready for model training and testing."
   ]
  },
  {
   "cell_type": "markdown",
   "metadata": {},
   "source": [
    "## Model training"
   ]
  },
  {
   "cell_type": "code",
   "execution_count": 58,
   "metadata": {},
   "outputs": [],
   "source": [
    "# Setting a list with the categorical features for gradient boosting models\n",
    "cat_col = df_test_encoded.columns.to_list()"
   ]
  },
  {
   "cell_type": "code",
   "execution_count": 59,
   "metadata": {},
   "outputs": [],
   "source": [
    "# Converting the encoded categorical features to integers for the gradient boosting models\n",
    "for i in range(len(cat_col)):\n",
    "    df_train[cat_col[i]] = df_train[cat_col[i]].astype('int')\n",
    "    df_test[cat_col[i]] = df_test[cat_col[i]].astype('int')"
   ]
  },
  {
   "cell_type": "code",
   "execution_count": 60,
   "metadata": {},
   "outputs": [],
   "source": [
    "# Setting the features and target variables for the train dataset\n",
    "features_train = df_train.drop('price', axis = 1)\n",
    "target_train = df_train.price\n",
    "\n",
    "# Setting the features and target variables for the test dataset\n",
    "features_test = df_test.drop('price', axis = 1)\n",
    "target_test = df_test.price"
   ]
  },
  {
   "cell_type": "code",
   "execution_count": 61,
   "metadata": {},
   "outputs": [],
   "source": [
    "# Building RMSE function \n",
    "def rmse(true_answers, predictions):\n",
    "    return math.sqrt(mean_squared_error(true_answers, predictions))"
   ]
  },
  {
   "cell_type": "code",
   "execution_count": 62,
   "metadata": {},
   "outputs": [],
   "source": [
    "# Create scorer for GridSearchCV\n",
    "rmse = make_scorer(rmse, greater_is_better = False)\n",
    "\n",
    "# Defining function to train non gradient models using GridSearchCV\n",
    "def train_fit_rmse(model, param, name, ):\n",
    "    model = GridSearchCV(model, param_grid = param, scoring = rmse, verbose = 0, refit = True)\n",
    "    model.fit(features_train, target_train)\n",
    "    return pd.DataFrame([[name, abs(model.best_score_), model.best_params_]], columns = ['Model', 'Best_Score',\n",
    "                                                                                        'Best_Params'])"
   ]
  },
  {
   "cell_type": "code",
   "execution_count": 63,
   "metadata": {},
   "outputs": [],
   "source": [
    "# Defining function to train gradient boosting models using GridSearchCV\n",
    "def train_fit_rmse_grad(model, param, name, grad_method, categories_list):\n",
    "    model = GridSearchCV(model, param_grid = param, scoring = rmse, verbose = 0, refit = True)\n",
    "    if grad_method == 'lgbm':\n",
    "        model.fit(features_train, target_train, categorical_feature = categories_list)\n",
    "    else:\n",
    "        model.fit(features_train, target_train, silent = True, cat_features = categories_list)\n",
    "    return pd.DataFrame([[name, abs(model.best_score_), model.best_params_]], columns = ['Model', 'Best_Score',\n",
    "                                                                                        'Best_Params'])"
   ]
  },
  {
   "cell_type": "code",
   "execution_count": 64,
   "metadata": {},
   "outputs": [
    {
     "name": "stdout",
     "output_type": "stream",
     "text": [
      "CPU times: user 25.8 s, sys: 55 ms, total: 25.9 s\n",
      "Wall time: 25.9 s\n"
     ]
    }
   ],
   "source": [
    "%%time\n",
    "#Create Decision Tree Regressor\n",
    "DecisionTree = train_fit_rmse(DecisionTreeRegressor(random_state=12345), \\\n",
    "                      {'max_depth': range(5, 10, 5), \\\n",
    "                       'min_impurity_decrease' : np.arange(.01, .20, .02), \\\n",
    "                       'min_samples_split' : range(2, 10, 2)}, 'Decision_Tree')"
   ]
  },
  {
   "cell_type": "code",
   "execution_count": 65,
   "metadata": {},
   "outputs": [
    {
     "name": "stdout",
     "output_type": "stream",
     "text": [
      "CPU times: user 15min 48s, sys: 5.46 s, total: 15min 53s\n",
      "Wall time: 15min 54s\n"
     ]
    }
   ],
   "source": [
    "%%time\n",
    "#Create Random Forest Regressor\n",
    "RandomForest = train_fit_rmse(RandomForestRegressor(random_state=12345), \n",
    "                       {'n_estimators' : range(10, 85, 25),\n",
    "                        'max_depth' : range(5, 45, 10),\n",
    "                        'min_impurity_decrease' : np.arange(.05, .25, .1)}, 'Random_Forest')"
   ]
  },
  {
   "cell_type": "code",
   "execution_count": 66,
   "metadata": {},
   "outputs": [
    {
     "name": "stdout",
     "output_type": "stream",
     "text": [
      "CPU times: user 10min 2s, sys: 53.8 s, total: 10min 56s\n",
      "Wall time: 1min 23s\n"
     ]
    }
   ],
   "source": [
    "%%time\n",
    "\n",
    "LightGBM_regressor = train_fit_rmse_grad(lgb.LGBMRegressor(random_state = 12345), \n",
    "                       {'learning_rate': np.arange(0.01, 1, 0.1),\n",
    "                        'n_estimators' : range(0, 75, 25),\n",
    "                        'max_depth' : range(5, 45, 10)}, 'LightGBM', 'lgbm', cat_col)"
   ]
  },
  {
   "cell_type": "code",
   "execution_count": 67,
   "metadata": {},
   "outputs": [
    {
     "name": "stdout",
     "output_type": "stream",
     "text": [
      "CPU times: user 5min 3s, sys: 8.16 s, total: 5min 11s\n",
      "Wall time: 1min 38s\n"
     ]
    }
   ],
   "source": [
    "%%time\n",
    "\n",
    "CatBoost_regressor = train_fit_rmse_grad(CatBoostRegressor(random_state = 12345), \n",
    "                       {'verbose':[0],\n",
    "                        'n_estimators' : range(0, 75, 25),\n",
    "                        'max_depth' : range(5, 45, 10)}, 'CatBoost', 'catboost', cat_col)"
   ]
  },
  {
   "cell_type": "code",
   "execution_count": 68,
   "metadata": {},
   "outputs": [
    {
     "name": "stdout",
     "output_type": "stream",
     "text": [
      "CPU times: user 13 s, sys: 2.02 s, total: 15 s\n",
      "Wall time: 1.97 s\n"
     ]
    }
   ],
   "source": [
    "%%time\n",
    "#Create Lasso Regressor (sanity check)\n",
    "Lasso_regressor = train_fit_rmse(Lasso(random_state=12345), \\\n",
    "                        {'alpha' : np.arange(.01, 1, .05)}, 'Lasso_Regressor')"
   ]
  },
  {
   "cell_type": "code",
   "execution_count": 69,
   "metadata": {},
   "outputs": [],
   "source": [
    "# Setting list of training times\n",
    "time_train = ['25.9 s', '15min 53s', '1min 22s', '1min 37s', '1.86 s']"
   ]
  },
  {
   "cell_type": "code",
   "execution_count": 71,
   "metadata": {},
   "outputs": [
    {
     "data": {
      "text/html": [
       "<div>\n",
       "<style scoped>\n",
       "    .dataframe tbody tr th:only-of-type {\n",
       "        vertical-align: middle;\n",
       "    }\n",
       "\n",
       "    .dataframe tbody tr th {\n",
       "        vertical-align: top;\n",
       "    }\n",
       "\n",
       "    .dataframe thead th {\n",
       "        text-align: right;\n",
       "    }\n",
       "</style>\n",
       "<table border=\"1\" class=\"dataframe\">\n",
       "  <thead>\n",
       "    <tr style=\"text-align: right;\">\n",
       "      <th></th>\n",
       "      <th>Best_Score</th>\n",
       "      <th>time_train</th>\n",
       "    </tr>\n",
       "    <tr>\n",
       "      <th>Model</th>\n",
       "      <th></th>\n",
       "      <th></th>\n",
       "    </tr>\n",
       "  </thead>\n",
       "  <tbody>\n",
       "    <tr>\n",
       "      <th>LightGBM</th>\n",
       "      <td>1670.77</td>\n",
       "      <td>1min 22s</td>\n",
       "    </tr>\n",
       "    <tr>\n",
       "      <th>CatBoost</th>\n",
       "      <td>1696.55</td>\n",
       "      <td>1min 37s</td>\n",
       "    </tr>\n",
       "    <tr>\n",
       "      <th>Random_Forest</th>\n",
       "      <td>1720.00</td>\n",
       "      <td>15min 53s</td>\n",
       "    </tr>\n",
       "    <tr>\n",
       "      <th>Decision_Tree</th>\n",
       "      <td>2398.05</td>\n",
       "      <td>25.9 s</td>\n",
       "    </tr>\n",
       "    <tr>\n",
       "      <th>Lasso_Regressor</th>\n",
       "      <td>2904.13</td>\n",
       "      <td>1.86 s</td>\n",
       "    </tr>\n",
       "  </tbody>\n",
       "</table>\n",
       "</div>"
      ],
      "text/plain": [
       "                 Best_Score time_train\n",
       "Model                                 \n",
       "LightGBM            1670.77   1min 22s\n",
       "CatBoost            1696.55   1min 37s\n",
       "Random_Forest       1720.00  15min 53s\n",
       "Decision_Tree       2398.05     25.9 s\n",
       "Lasso_Regressor     2904.13     1.86 s"
      ]
     },
     "metadata": {},
     "output_type": "display_data"
    }
   ],
   "source": [
    "#Showing the best scores from all regressors\n",
    "scores = pd.concat([DecisionTree, RandomForest, LightGBM_regressor, CatBoost_regressor, Lasso_regressor]).set_index('Model')\n",
    "scores['Best_Score'] = scores['Best_Score'].round(2)\n",
    "scores['time_train'] = time_train\n",
    "display(scores.drop('Best_Params', axis=1).sort_values(by='Best_Score'))"
   ]
  },
  {
   "cell_type": "markdown",
   "metadata": {},
   "source": [
    "**Testing the models**"
   ]
  },
  {
   "cell_type": "code",
   "execution_count": 72,
   "metadata": {},
   "outputs": [],
   "source": [
    "# Setting s lists for time training and prediction\n",
    "time_train=[]\n",
    "time_pred = []"
   ]
  },
  {
   "cell_type": "code",
   "execution_count": 73,
   "metadata": {},
   "outputs": [],
   "source": [
    "# Setting a dictionary for models' RMSE scores\n",
    "rmse_dic = {}"
   ]
  },
  {
   "cell_type": "code",
   "execution_count": 74,
   "metadata": {},
   "outputs": [],
   "source": [
    "# Building RMSE function \n",
    "def rmse_test(true_answers, predictions):\n",
    "    return math.sqrt(mean_squared_error(true_answers, predictions))"
   ]
  },
  {
   "cell_type": "code",
   "execution_count": 75,
   "metadata": {},
   "outputs": [],
   "source": [
    "# Building a function for model training with the best parameters\n",
    "def model_train_best_params(model, x_train, y_train, model_parameters):\n",
    "    model = model(**scores['Best_Params'][model_parameters])\n",
    "    model.fit(x_train, y_train)\n",
    "    return model"
   ]
  },
  {
   "cell_type": "code",
   "execution_count": 76,
   "metadata": {},
   "outputs": [],
   "source": [
    "# Building function for model predictions and RMSE evaluation\n",
    "def model_pred_rmse (model ,x_test, y_test, model_name):\n",
    "    prediction = model.predict(x_test)\n",
    "    model_rmse = rmse_test(y_test, prediction)\n",
    "    rmse_dic[model_name] = model_rmse"
   ]
  },
  {
   "cell_type": "markdown",
   "metadata": {},
   "source": [
    "**Decision Tree Regressor**"
   ]
  },
  {
   "cell_type": "code",
   "execution_count": 77,
   "metadata": {},
   "outputs": [
    {
     "name": "stdout",
     "output_type": "stream",
     "text": [
      "CPU times: user 190 ms, sys: 8.94 ms, total: 199 ms\n",
      "Wall time: 197 ms\n"
     ]
    }
   ],
   "source": [
    "%%time \n",
    "\n",
    "# Training the Decision Tree regressor\n",
    "Decision_Tree = model_train_best_params(DecisionTreeRegressor, features_train, target_train, 'Decision_Tree')"
   ]
  },
  {
   "cell_type": "code",
   "execution_count": 78,
   "metadata": {},
   "outputs": [
    {
     "name": "stdout",
     "output_type": "stream",
     "text": [
      "CPU times: user 14.7 ms, sys: 6.67 ms, total: 21.4 ms\n",
      "Wall time: 18.2 ms\n"
     ]
    }
   ],
   "source": [
    "%%time\n",
    "\n",
    "# Testing the Decision Tree Regressor\n",
    "model_pred_rmse (Decision_Tree ,features_test, target_test, 'Decision_Tree')"
   ]
  },
  {
   "cell_type": "code",
   "execution_count": 79,
   "metadata": {},
   "outputs": [],
   "source": [
    "# Adding the times of the Decision Tree regressor\n",
    "time_train.append('203 ms')\n",
    "time_pred.append('21.3 ms')"
   ]
  },
  {
   "cell_type": "markdown",
   "metadata": {},
   "source": [
    "**Random Forest Regressor**"
   ]
  },
  {
   "cell_type": "code",
   "execution_count": 80,
   "metadata": {},
   "outputs": [
    {
     "name": "stdout",
     "output_type": "stream",
     "text": [
      "CPU times: user 15.3 s, sys: 50.4 ms, total: 15.4 s\n",
      "Wall time: 15.4 s\n"
     ]
    }
   ],
   "source": [
    "%%time \n",
    "\n",
    "# Training the Decision Tree regressor\n",
    "Random_Forest = model_train_best_params(RandomForestRegressor, features_train, target_train, 'Random_Forest')"
   ]
  },
  {
   "cell_type": "code",
   "execution_count": 81,
   "metadata": {},
   "outputs": [
    {
     "name": "stdout",
     "output_type": "stream",
     "text": [
      "CPU times: user 574 ms, sys: 7.47 ms, total: 581 ms\n",
      "Wall time: 578 ms\n"
     ]
    }
   ],
   "source": [
    "%%time\n",
    "\n",
    "# Testing the Random Forest Regressor\n",
    "model_pred_rmse (Random_Forest ,features_test, target_test, 'Random_Forest')"
   ]
  },
  {
   "cell_type": "code",
   "execution_count": 82,
   "metadata": {},
   "outputs": [],
   "source": [
    "# Adding the times of the Random_forest regressor\n",
    "time_train.append('15.2 s')\n",
    "time_pred.append('567 ms')"
   ]
  },
  {
   "cell_type": "markdown",
   "metadata": {},
   "source": [
    "**LightGBM Regressor**"
   ]
  },
  {
   "cell_type": "code",
   "execution_count": 83,
   "metadata": {},
   "outputs": [
    {
     "name": "stdout",
     "output_type": "stream",
     "text": [
      "CPU times: user 1.57 s, sys: 138 ms, total: 1.7 s\n",
      "Wall time: 274 ms\n"
     ]
    }
   ],
   "source": [
    "%%time \n",
    "\n",
    "# Training the LightGBM regressor\n",
    "LightGBM = model_train_best_params(lgb.LGBMRegressor, features_train, target_train, 'LightGBM')"
   ]
  },
  {
   "cell_type": "code",
   "execution_count": 84,
   "metadata": {},
   "outputs": [
    {
     "name": "stdout",
     "output_type": "stream",
     "text": [
      "CPU times: user 439 ms, sys: 15.4 ms, total: 454 ms\n",
      "Wall time: 77 ms\n"
     ]
    }
   ],
   "source": [
    "%%time\n",
    "\n",
    "# Testing the LightGBM regressor\n",
    "model_pred_rmse (LightGBM ,features_test, target_test, 'LightGBM')"
   ]
  },
  {
   "cell_type": "code",
   "execution_count": 85,
   "metadata": {},
   "outputs": [],
   "source": [
    "# Adding the times of the LightGBM regressor\n",
    "time_train.append('278 ms')\n",
    "time_pred.append('64.6 ms')"
   ]
  },
  {
   "cell_type": "markdown",
   "metadata": {},
   "source": [
    "**CatBoost Regressor**"
   ]
  },
  {
   "cell_type": "code",
   "execution_count": 86,
   "metadata": {},
   "outputs": [
    {
     "name": "stdout",
     "output_type": "stream",
     "text": [
      "CPU times: user 16.2 s, sys: 739 ms, total: 17 s\n",
      "Wall time: 7.72 s\n"
     ]
    }
   ],
   "source": [
    "%%time \n",
    "\n",
    "# Training the CatBoost regressor\n",
    "CatBoost = model_train_best_params(CatBoostRegressor, features_train, target_train, 'CatBoost')"
   ]
  },
  {
   "cell_type": "code",
   "execution_count": 87,
   "metadata": {},
   "outputs": [
    {
     "name": "stdout",
     "output_type": "stream",
     "text": [
      "CPU times: user 69.8 ms, sys: 16.2 ms, total: 86 ms\n",
      "Wall time: 36.6 ms\n"
     ]
    }
   ],
   "source": [
    "%%time\n",
    "\n",
    "# Testing the CatBoost regressor\n",
    "model_pred_rmse (CatBoost ,features_test, target_test, 'CatBoost')"
   ]
  },
  {
   "cell_type": "code",
   "execution_count": 88,
   "metadata": {},
   "outputs": [],
   "source": [
    "# Adding the times of the CatBoost regressor\n",
    "time_train.append('7.9 s')\n",
    "time_pred.append('40.7 ms')"
   ]
  },
  {
   "cell_type": "markdown",
   "metadata": {},
   "source": [
    "**Lasso Regressor**"
   ]
  },
  {
   "cell_type": "code",
   "execution_count": 89,
   "metadata": {},
   "outputs": [
    {
     "name": "stdout",
     "output_type": "stream",
     "text": [
      "CPU times: user 136 ms, sys: 33.6 ms, total: 169 ms\n",
      "Wall time: 65.4 ms\n"
     ]
    }
   ],
   "source": [
    "%%time \n",
    "\n",
    "# Training the Lasso regressor\n",
    "Lasso_Regressor = model_train_best_params(Lasso, features_train, target_train, 'Lasso_Regressor')"
   ]
  },
  {
   "cell_type": "code",
   "execution_count": 90,
   "metadata": {},
   "outputs": [
    {
     "name": "stdout",
     "output_type": "stream",
     "text": [
      "CPU times: user 8.78 ms, sys: 2.38 ms, total: 11.2 ms\n",
      "Wall time: 6.87 ms\n"
     ]
    }
   ],
   "source": [
    "%%time\n",
    "\n",
    "# Testing the Lasso regressor\n",
    "model_pred_rmse (Lasso_Regressor ,features_test, target_test, 'Lasso_Regressor')"
   ]
  },
  {
   "cell_type": "code",
   "execution_count": 91,
   "metadata": {},
   "outputs": [],
   "source": [
    "# Adding the times of the Lasso regressor\n",
    "time_train.append('167 ms')\n",
    "time_pred.append('12.8 ms')"
   ]
  },
  {
   "cell_type": "code",
   "execution_count": 92,
   "metadata": {},
   "outputs": [
    {
     "data": {
      "text/html": [
       "<div>\n",
       "<style scoped>\n",
       "    .dataframe tbody tr th:only-of-type {\n",
       "        vertical-align: middle;\n",
       "    }\n",
       "\n",
       "    .dataframe tbody tr th {\n",
       "        vertical-align: top;\n",
       "    }\n",
       "\n",
       "    .dataframe thead th {\n",
       "        text-align: right;\n",
       "    }\n",
       "</style>\n",
       "<table border=\"1\" class=\"dataframe\">\n",
       "  <thead>\n",
       "    <tr style=\"text-align: right;\">\n",
       "      <th></th>\n",
       "      <th>RMSE</th>\n",
       "      <th>time_train</th>\n",
       "      <th>time_pred</th>\n",
       "    </tr>\n",
       "  </thead>\n",
       "  <tbody>\n",
       "    <tr>\n",
       "      <th>CatBoost</th>\n",
       "      <td>1660.046810</td>\n",
       "      <td>7.9 s</td>\n",
       "      <td>40.7 ms</td>\n",
       "    </tr>\n",
       "    <tr>\n",
       "      <th>Random_Forest</th>\n",
       "      <td>1675.010598</td>\n",
       "      <td>15.2 s</td>\n",
       "      <td>567 ms</td>\n",
       "    </tr>\n",
       "    <tr>\n",
       "      <th>LightGBM</th>\n",
       "      <td>1694.586455</td>\n",
       "      <td>278 ms</td>\n",
       "      <td>64.6 ms</td>\n",
       "    </tr>\n",
       "    <tr>\n",
       "      <th>Decision_Tree</th>\n",
       "      <td>2385.755123</td>\n",
       "      <td>203 ms</td>\n",
       "      <td>21.3 ms</td>\n",
       "    </tr>\n",
       "    <tr>\n",
       "      <th>Lasso_Regressor</th>\n",
       "      <td>2893.707108</td>\n",
       "      <td>167 ms</td>\n",
       "      <td>12.8 ms</td>\n",
       "    </tr>\n",
       "  </tbody>\n",
       "</table>\n",
       "</div>"
      ],
      "text/plain": [
       "                        RMSE time_train time_pred\n",
       "CatBoost         1660.046810      7.9 s   40.7 ms\n",
       "Random_Forest    1675.010598     15.2 s    567 ms\n",
       "LightGBM         1694.586455     278 ms   64.6 ms\n",
       "Decision_Tree    2385.755123     203 ms   21.3 ms\n",
       "Lasso_Regressor  2893.707108     167 ms   12.8 ms"
      ]
     },
     "execution_count": 92,
     "metadata": {},
     "output_type": "execute_result"
    }
   ],
   "source": [
    "models_best_parms_rmse = pd.DataFrame(rmse_dic.values(), index = rmse_dic.keys())\n",
    "models_best_parms_rmse.columns = ['RMSE']\n",
    "models_best_parms_rmse['time_train'] = time_train\n",
    "models_best_parms_rmse['time_pred'] = time_pred\n",
    "models_best_parms_rmse = models_best_parms_rmse.sort_values(by = 'RMSE')\n",
    "models_best_parms_rmse"
   ]
  },
  {
   "cell_type": "markdown",
   "metadata": {},
   "source": [
    "## Model analysis"
   ]
  },
  {
   "cell_type": "markdown",
   "metadata": {},
   "source": [
    "The run time results above tell the who is the fastest model (ascending order):\n",
    "1. **Lasso Regression** \n",
    "2. **Decision Tree Regressor** \n",
    "3. **LightGBM Regressor** \n",
    "4. **CatBoost Regressor** \n",
    "5. **Random Forest Regressor** \n",
    "\n",
    "The combination of the running time and the RMSE scores lead us to the conclusion the **Gradient Boosting methods performed better than other regression models such as Linear Regression, Decision Tree and Random Forest**. The Gradient Boosting models have the best RMSE scores along with a very small running time. It's the perfect combination, more accurate results with less time."
   ]
  },
  {
   "cell_type": "code",
   "execution_count": null,
   "metadata": {},
   "outputs": [],
   "source": []
  }
 ],
 "metadata": {
  "kernelspec": {
   "display_name": "Python 3 (ipykernel)",
   "language": "python",
   "name": "python3"
  },
  "language_info": {
   "codemirror_mode": {
    "name": "ipython",
    "version": 3
   },
   "file_extension": ".py",
   "mimetype": "text/x-python",
   "name": "python",
   "nbconvert_exporter": "python",
   "pygments_lexer": "ipython3",
   "version": "3.9.7"
  },
  "toc": {
   "base_numbering": 1,
   "nav_menu": {},
   "number_sections": true,
   "sideBar": true,
   "skip_h1_title": true,
   "title_cell": "Table of Contents",
   "title_sidebar": "Contents",
   "toc_cell": false,
   "toc_position": {},
   "toc_section_display": true,
   "toc_window_display": false
  }
 },
 "nbformat": 4,
 "nbformat_minor": 2
}
